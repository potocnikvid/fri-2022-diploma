{
 "cells": [
  {
   "attachments": {},
   "cell_type": "markdown",
   "metadata": {},
   "source": [
    "# Child to Parents mappings in StyleGAN2 latent space using the Ridge Regression"
   ]
  },
  {
   "cell_type": "code",
   "execution_count": 1,
   "metadata": {},
   "outputs": [
    {
     "name": "stderr",
     "output_type": "stream",
     "text": [
      "/home/vidp/miniconda3/envs/diploma_env/lib/python3.9/site-packages/tqdm/auto.py:22: TqdmWarning: IProgress not found. Please update jupyter and ipywidgets. See https://ipywidgets.readthedocs.io/en/stable/user_install.html\n",
      "  from .autonotebook import tqdm as notebook_tqdm\n"
     ]
    }
   ],
   "source": [
    "from dataset.nok_mean import NokMeanDataset\n",
    "from dataset.nok import NokDataset\n",
    "from dataset.nok_aug import NokAugDataset\n",
    "from utils.stylegan import StyleGAN2\n",
    "from utils.eval import BaseEvaluator\n",
    "from utils.viz import image_add_label\n",
    "import os\n",
    "import sys\n",
    "import numpy as np\n",
    "import torch, torchvision\n",
    "from PIL import Image\n",
    "\n",
    "from sklearn.linear_model import LinearRegression, Ridge\n",
    "from sklearn.metrics import mean_squared_error\n"
   ]
  },
  {
   "cell_type": "code",
   "execution_count": 2,
   "metadata": {},
   "outputs": [],
   "source": [
    "def load_data(split):\n",
    "    X = []\n",
    "    y = []\n",
    "    for father, mother, child, *_ in NokMeanDataset(split=split):\n",
    "        input = child.flatten(0)\n",
    "        output = torch.cat([father.flatten(0), mother.flatten(0)], dim=0)\n",
    "        X.append(input)\n",
    "        y.append(output)\n",
    "    X = torch.stack(X, dim=0)\n",
    "    y = torch.stack(y, dim=0)\n",
    "    return X, y"
   ]
  },
  {
   "cell_type": "code",
   "execution_count": 3,
   "metadata": {},
   "outputs": [],
   "source": [
    "name = \"child_to_parent\"\n",
    "output_path = \"./.tmp/stylegan2-ada-pytorch/\" + name + \"001\"\n",
    "while (os.path.exists(output_path)):\n",
    "  output_path = output_path[:-3] + str(int(output_path[-3:]) + 1).zfill(3)\n",
    "\n",
    "os.mkdir(output_path)"
   ]
  },
  {
   "cell_type": "code",
   "execution_count": 4,
   "metadata": {},
   "outputs": [
    {
     "name": "stdout",
     "output_type": "stream",
     "text": [
      "Loaded 433 persons with 2676 images.\n",
      "Average images per person: 6.180138568129331\n",
      "Max images per person: 37\n",
      "Min images per person: 1\n",
      "[13, 12, 6, 1, 4, 2, 6, 9, 8, 2, 4, 7, 1, 6, 3, 3, 5, 8, 12, 4, 3, 6, 20, 4, 10, 3, 7, 3, 1, 4, 5, 9, 5, 8, 2, 4, 4, 3, 3, 2, 11, 2, 7, 14, 8, 10, 2, 1, 2, 9, 11, 5, 1, 1, 5, 2, 5, 5, 8, 1, 1, 5, 5, 3, 1, 3, 7, 23, 14, 15, 16, 5, 4, 1, 3, 9, 5, 6, 5, 1, 2, 5, 16, 4, 2, 1, 5, 2, 6, 24, 5, 15, 3, 9, 13, 2, 5, 6, 9, 7, 4, 8, 4, 7, 5, 11, 4, 9, 7, 6, 6, 7, 8, 5, 7, 5, 18, 10, 6, 8, 1, 5, 5, 9, 14, 6, 6, 1, 11, 14, 2, 7, 1, 2, 4, 4, 17, 5, 1, 6, 6, 4, 2, 3, 4, 5, 1, 2, 4, 4, 9, 3, 6, 2, 3, 5, 8, 6, 7, 14, 6, 5, 18, 9, 5, 3, 13, 3, 12, 5, 14, 5, 5, 1, 5, 9, 2, 9, 2, 6, 10, 8, 10, 12, 9, 6, 19, 10, 7, 37, 9, 6, 1, 1, 4, 24, 7, 3, 3, 4, 6, 13, 5, 8, 4, 5, 4, 2, 24, 5, 19, 6, 5, 13, 5, 3, 7, 8, 11, 4, 12, 7, 8, 7, 14, 15, 6, 8, 4, 5, 3, 5, 6, 8, 11, 6, 2, 2, 10, 4, 4, 3, 1, 1, 1, 1, 2, 1, 2, 5, 1, 16, 9, 8, 4, 4, 1, 9, 3, 5, 7, 8, 3, 2, 6, 4, 1, 5, 2, 4, 5, 6, 4, 2, 5, 5, 2, 7, 11, 13, 10, 7, 2, 5, 2, 4, 2, 4, 4, 1, 3, 1, 4, 3, 4, 4, 4, 3, 2, 7, 2, 11, 5, 4, 3, 1, 5, 11, 8, 3, 1, 9, 4, 4, 5, 7, 9, 6, 4, 2, 4, 16, 7, 4, 7, 8, 8, 9, 9, 3, 6, 10, 2, 6, 3, 5, 7, 2, 12, 5, 7, 6, 7, 20, 4, 3, 2, 1, 1, 2, 6, 4, 2, 5, 5, 3, 4, 6, 2, 24, 10, 16, 1, 5, 1, 5, 15, 14, 5, 3, 1, 3, 5, 2, 3, 16, 2, 1, 4, 2, 2, 5, 4, 3, 5, 10, 11, 1, 2, 3, 3, 1, 3, 9, 5, 4, 6, 12, 16, 4, 2, 12, 3, 3, 5, 4, 1, 7, 17, 1, 4, 4, 8, 7, 6, 5, 13, 12, 3, 5, 6, 6, 12, 9, 10, 5, 8, 8, 10, 16, 15, 13, 7]\n",
      "Loaded 60 persons with 508 images.\n",
      "Average images per person: 8.466666666666667\n",
      "Max images per person: 15\n",
      "Min images per person: 2\n",
      "[7, 9, 12, 7, 6, 11, 8, 7, 6, 12, 10, 8, 10, 9, 11, 10, 5, 8, 4, 5, 5, 7, 15, 4, 13, 5, 2, 12, 4, 12, 7, 10, 8, 15, 11, 4, 5, 6, 5, 4, 10, 10, 10, 9, 12, 6, 11, 10, 13, 9, 8, 10, 5, 8, 9, 7, 14, 8, 5, 15]\n"
     ]
    }
   ],
   "source": [
    "X_train, y_train = load_data(split=\"train\")\n",
    "X_test, y_test = load_data(split=\"test\")"
   ]
  },
  {
   "cell_type": "code",
   "execution_count": 5,
   "metadata": {},
   "outputs": [
    {
     "data": {
      "text/plain": [
       "(torch.Size([207, 9216]),\n",
       " torch.Size([207, 18432]),\n",
       " torch.Size([20, 9216]),\n",
       " torch.Size([20, 18432]))"
      ]
     },
     "execution_count": 5,
     "metadata": {},
     "output_type": "execute_result"
    }
   ],
   "source": [
    "X_train.shape, y_train.shape, X_test.shape, y_test.shape\n"
   ]
  },
  {
   "cell_type": "code",
   "execution_count": 6,
   "metadata": {},
   "outputs": [
    {
     "data": {
      "text/html": [
       "<style>#sk-container-id-1 {color: black;background-color: white;}#sk-container-id-1 pre{padding: 0;}#sk-container-id-1 div.sk-toggleable {background-color: white;}#sk-container-id-1 label.sk-toggleable__label {cursor: pointer;display: block;width: 100%;margin-bottom: 0;padding: 0.3em;box-sizing: border-box;text-align: center;}#sk-container-id-1 label.sk-toggleable__label-arrow:before {content: \"▸\";float: left;margin-right: 0.25em;color: #696969;}#sk-container-id-1 label.sk-toggleable__label-arrow:hover:before {color: black;}#sk-container-id-1 div.sk-estimator:hover label.sk-toggleable__label-arrow:before {color: black;}#sk-container-id-1 div.sk-toggleable__content {max-height: 0;max-width: 0;overflow: hidden;text-align: left;background-color: #f0f8ff;}#sk-container-id-1 div.sk-toggleable__content pre {margin: 0.2em;color: black;border-radius: 0.25em;background-color: #f0f8ff;}#sk-container-id-1 input.sk-toggleable__control:checked~div.sk-toggleable__content {max-height: 200px;max-width: 100%;overflow: auto;}#sk-container-id-1 input.sk-toggleable__control:checked~label.sk-toggleable__label-arrow:before {content: \"▾\";}#sk-container-id-1 div.sk-estimator input.sk-toggleable__control:checked~label.sk-toggleable__label {background-color: #d4ebff;}#sk-container-id-1 div.sk-label input.sk-toggleable__control:checked~label.sk-toggleable__label {background-color: #d4ebff;}#sk-container-id-1 input.sk-hidden--visually {border: 0;clip: rect(1px 1px 1px 1px);clip: rect(1px, 1px, 1px, 1px);height: 1px;margin: -1px;overflow: hidden;padding: 0;position: absolute;width: 1px;}#sk-container-id-1 div.sk-estimator {font-family: monospace;background-color: #f0f8ff;border: 1px dotted black;border-radius: 0.25em;box-sizing: border-box;margin-bottom: 0.5em;}#sk-container-id-1 div.sk-estimator:hover {background-color: #d4ebff;}#sk-container-id-1 div.sk-parallel-item::after {content: \"\";width: 100%;border-bottom: 1px solid gray;flex-grow: 1;}#sk-container-id-1 div.sk-label:hover label.sk-toggleable__label {background-color: #d4ebff;}#sk-container-id-1 div.sk-serial::before {content: \"\";position: absolute;border-left: 1px solid gray;box-sizing: border-box;top: 0;bottom: 0;left: 50%;z-index: 0;}#sk-container-id-1 div.sk-serial {display: flex;flex-direction: column;align-items: center;background-color: white;padding-right: 0.2em;padding-left: 0.2em;position: relative;}#sk-container-id-1 div.sk-item {position: relative;z-index: 1;}#sk-container-id-1 div.sk-parallel {display: flex;align-items: stretch;justify-content: center;background-color: white;position: relative;}#sk-container-id-1 div.sk-item::before, #sk-container-id-1 div.sk-parallel-item::before {content: \"\";position: absolute;border-left: 1px solid gray;box-sizing: border-box;top: 0;bottom: 0;left: 50%;z-index: -1;}#sk-container-id-1 div.sk-parallel-item {display: flex;flex-direction: column;z-index: 1;position: relative;background-color: white;}#sk-container-id-1 div.sk-parallel-item:first-child::after {align-self: flex-end;width: 50%;}#sk-container-id-1 div.sk-parallel-item:last-child::after {align-self: flex-start;width: 50%;}#sk-container-id-1 div.sk-parallel-item:only-child::after {width: 0;}#sk-container-id-1 div.sk-dashed-wrapped {border: 1px dashed gray;margin: 0 0.4em 0.5em 0.4em;box-sizing: border-box;padding-bottom: 0.4em;background-color: white;}#sk-container-id-1 div.sk-label label {font-family: monospace;font-weight: bold;display: inline-block;line-height: 1.2em;}#sk-container-id-1 div.sk-label-container {text-align: center;}#sk-container-id-1 div.sk-container {/* jupyter's `normalize.less` sets `[hidden] { display: none; }` but bootstrap.min.css set `[hidden] { display: none !important; }` so we also need the `!important` here to be able to override the default hidden behavior on the sphinx rendered scikit-learn.org. See: https://github.com/scikit-learn/scikit-learn/issues/21755 */display: inline-block !important;position: relative;}#sk-container-id-1 div.sk-text-repr-fallback {display: none;}</style><div id=\"sk-container-id-1\" class=\"sk-top-container\"><div class=\"sk-text-repr-fallback\"><pre>Ridge()</pre><b>In a Jupyter environment, please rerun this cell to show the HTML representation or trust the notebook. <br />On GitHub, the HTML representation is unable to render, please try loading this page with nbviewer.org.</b></div><div class=\"sk-container\" hidden><div class=\"sk-item\"><div class=\"sk-estimator sk-toggleable\"><input class=\"sk-toggleable__control sk-hidden--visually\" id=\"sk-estimator-id-1\" type=\"checkbox\" checked><label for=\"sk-estimator-id-1\" class=\"sk-toggleable__label sk-toggleable__label-arrow\">Ridge</label><div class=\"sk-toggleable__content\"><pre>Ridge()</pre></div></div></div></div></div>"
      ],
      "text/plain": [
       "Ridge()"
      ]
     },
     "execution_count": 6,
     "metadata": {},
     "output_type": "execute_result"
    }
   ],
   "source": [
    "regressor = Ridge()\n",
    "regressor.fit(X_train, y_train)"
   ]
  },
  {
   "cell_type": "code",
   "execution_count": 7,
   "metadata": {},
   "outputs": [],
   "source": [
    "y_train_hat = regressor.predict(X_train)\n",
    "y_test_hat = regressor.predict(X_test)"
   ]
  },
  {
   "cell_type": "code",
   "execution_count": 8,
   "metadata": {},
   "outputs": [],
   "source": [
    "mse_train = mean_squared_error(y_train, y_train_hat)\n",
    "mse_test = mean_squared_error(y_test, y_test_hat)"
   ]
  },
  {
   "cell_type": "code",
   "execution_count": 9,
   "metadata": {},
   "outputs": [
    {
     "data": {
      "text/plain": [
       "(0.006931318833174911, 1.0244137867456073)"
      ]
     },
     "execution_count": 9,
     "metadata": {},
     "output_type": "execute_result"
    }
   ],
   "source": [
    "mse_train, mse_test"
   ]
  },
  {
   "cell_type": "code",
   "execution_count": 10,
   "metadata": {},
   "outputs": [],
   "source": [
    "images = []\n",
    "for i in range(y_test.shape[0]):\n",
    "    images.append(X_test[i].view(18, 512))\n",
    "    images.append(y_test[i,:18*512].view(18, 512))\n",
    "    images.append(y_test[i,18*512:].view(18, 512))\n",
    "    images.append(torch.from_numpy(y_test_hat[i,:18*512]).to(torch.float32).view(18, 512))\n",
    "    images.append(torch.from_numpy(y_test_hat[i,18*512:]).to(torch.float32).view(18, 512))\n",
    "images = torch.stack(images, dim=0)"
   ]
  },
  {
   "attachments": {},
   "cell_type": "markdown",
   "metadata": {},
   "source": [
    "## Visualize and evaluate results"
   ]
  },
  {
   "cell_type": "code",
   "execution_count": 11,
   "metadata": {},
   "outputs": [
    {
     "name": "stdout",
     "output_type": "stream",
     "text": [
      "./submodules/stylegan2-ada-pytorch/\n",
      "./.tmp/stylegan2-ada-pytorch/child_to_parent009\n",
      "Got StyleGAN2 docker client, building image...\n",
      "StyleGAN2 Docker image built.\n"
     ]
    }
   ],
   "source": [
    "toTensor = torchvision.transforms.PILToTensor()\n",
    "toPIL = torchvision.transforms.ToPILImage()\n",
    "eval = BaseEvaluator()\n",
    "stylegan = StyleGAN2(tmp_path=output_path)"
   ]
  },
  {
   "cell_type": "code",
   "execution_count": 12,
   "metadata": {},
   "outputs": [
    {
     "name": "stdout",
     "output_type": "stream",
     "text": [
      "Generating 100 images from array...\n",
      "[INFO] StyleGAN2 - Generating image...\n",
      "Loading networks from \"https://nvlabs-fi-cdn.nvidia.com/stylegan2-ada-pytorch/pretrained/ffhq.pkl\"...\n",
      "\n",
      "Generating images from projected W \"./.tmp/stylegan2-ada-pytorch/child_to_parent009/projected_w.npz\"\n",
      "\n",
      "Setting up PyTorch plugin \"bias_act_plugin\"... Done.\n",
      "\n",
      "Setting up PyTorch plugin \"upfirdn2d_plugin\"... Done.\n",
      "\n"
     ]
    }
   ],
   "source": [
    "pils = stylegan.generate_from_array(images.detach().cpu().numpy())\n",
    "pil = toPIL(torchvision.utils.make_grid([toTensor(pil.resize((128,128))) for pil in pils], nrow=5)).convert(\"RGB\")\n",
    "pil.save(output_path + \"/result.png\")"
   ]
  },
  {
   "cell_type": "code",
   "execution_count": 13,
   "metadata": {},
   "outputs": [],
   "source": [
    "pils_reshaped = np.array([np.array(pil).reshape(1024, 1024, 3) for pil in pils])\n",
    "pils_reshaped = pils_reshaped.reshape(-1, 5, 1024, 1024, 3)\n",
    "images_eval_f = pils_reshaped[:, 1]\n",
    "images_eval_m = pils_reshaped[:, 2]\n",
    "images_hat_eval_f = pils_reshaped[:, 3]\n",
    "images_hat_eval_m = pils_reshaped[:, 4]"
   ]
  },
  {
   "cell_type": "code",
   "execution_count": 14,
   "metadata": {},
   "outputs": [],
   "source": [
    "images_eval_arr_f = [Image.fromarray(i).convert(\"RGB\") for i in images_eval_f]\n",
    "images_eval_arr_m = [Image.fromarray(i).convert(\"RGB\") for i in images_eval_m]\n",
    "images_hat_eval_arr_f = [Image.fromarray(i).convert(\"RGB\") for i in images_hat_eval_f]\n",
    "images_hat_eval_arr_m = [Image.fromarray(i).convert(\"RGB\") for i in images_hat_eval_m]"
   ]
  },
  {
   "cell_type": "code",
   "execution_count": 15,
   "metadata": {},
   "outputs": [],
   "source": [
    "images_eval_pil_f = toPIL(torchvision.utils.make_grid([toTensor(pil.resize((128, 128))) for pil in images_eval_arr_f], nrow=1)).convert(\"RGB\")\n",
    "images_eval_pil_f.save(output_path + \"/images_eval_f.png\")\n",
    "\n",
    "images_eval_pil_m = toPIL(torchvision.utils.make_grid([toTensor(pil.resize((128, 128))) for pil in images_eval_arr_m], nrow=1)).convert(\"RGB\")\n",
    "images_eval_pil_m.save(output_path + \"/images_eval_m.png\")"
   ]
  },
  {
   "cell_type": "code",
   "execution_count": 16,
   "metadata": {},
   "outputs": [
    {
     "name": "stdout",
     "output_type": "stream",
     "text": [
      "<keras.engine.functional.Functional object at 0x7f49de74c2b0>\n"
     ]
    },
    {
     "ename": "ValueError",
     "evalue": "('Confirm that opencv is installed on your environment! Expected path ', '/home/vidp/miniconda3/envs/diploma_env/lib/python3.9/site-packages/data/haarcascade_frontalface_default.xml', ' violated.')",
     "output_type": "error",
     "traceback": [
      "\u001b[0;31m---------------------------------------------------------------------------\u001b[0m",
      "\u001b[0;31mValueError\u001b[0m                                Traceback (most recent call last)",
      "Cell \u001b[0;32mIn[16], line 1\u001b[0m\n\u001b[0;32m----> 1\u001b[0m eval_res_f_fn \u001b[39m=\u001b[39m \u001b[39meval\u001b[39;49m\u001b[39m.\u001b[39;49mevaluate_batch(images_eval_f, images_hat_eval_f, model_name\u001b[39m=\u001b[39;49m\u001b[39m'\u001b[39;49m\u001b[39mFacenet512\u001b[39;49m\u001b[39m'\u001b[39;49m)\n\u001b[1;32m      2\u001b[0m images_hat_eval_arr_f_labeled_fn \u001b[39m=\u001b[39m \u001b[39mzip\u001b[39m(images_hat_eval_arr_f, eval_res_f_fn)\n\u001b[1;32m      3\u001b[0m images_hat_eval_pil_f_fn \u001b[39m=\u001b[39m toPIL(torchvision\u001b[39m.\u001b[39mutils\u001b[39m.\u001b[39mmake_grid([toTensor(image_add_label(pil, \u001b[39mstr\u001b[39m(\u001b[39mround\u001b[39m(label, \u001b[39m3\u001b[39m)), \u001b[39m40\u001b[39m)\u001b[39m.\u001b[39mresize((\u001b[39m256\u001b[39m, \u001b[39m256\u001b[39m))) \u001b[39mfor\u001b[39;00m pil, label \u001b[39min\u001b[39;00m images_hat_eval_arr_f_labeled_fn], nrow\u001b[39m=\u001b[39m\u001b[39m1\u001b[39m))\u001b[39m.\u001b[39mconvert(\u001b[39m\"\u001b[39m\u001b[39mRGB\u001b[39m\u001b[39m\"\u001b[39m)\n",
      "File \u001b[0;32m~/Documents/fri-2022-diploma/src/utils/eval.py:62\u001b[0m, in \u001b[0;36mBaseEvaluator.evaluate_batch\u001b[0;34m(self, images, images_hat, model_name)\u001b[0m\n\u001b[1;32m     60\u001b[0m model \u001b[39m=\u001b[39m DeepFace\u001b[39m.\u001b[39mbuild_model(model_name)\n\u001b[1;32m     61\u001b[0m \u001b[39mprint\u001b[39m(model)\n\u001b[0;32m---> 62\u001b[0m image_embeddings \u001b[39m=\u001b[39m \u001b[39mself\u001b[39;49m\u001b[39m.\u001b[39;49mget_embeddings(images, model, model_name)\n\u001b[1;32m     63\u001b[0m image_hat_embeddings \u001b[39m=\u001b[39m \u001b[39mself\u001b[39m\u001b[39m.\u001b[39mget_embeddings(images_hat, model, model_name)\n\u001b[1;32m     64\u001b[0m res \u001b[39m=\u001b[39m []\n",
      "File \u001b[0;32m~/Documents/fri-2022-diploma/src/utils/eval.py:46\u001b[0m, in \u001b[0;36mBaseEvaluator.get_embeddings\u001b[0;34m(self, images, model, model_name)\u001b[0m\n\u001b[1;32m     44\u001b[0m embeddings \u001b[39m=\u001b[39m []\n\u001b[1;32m     45\u001b[0m \u001b[39mfor\u001b[39;00m image \u001b[39min\u001b[39;00m images:\n\u001b[0;32m---> 46\u001b[0m     embeddings\u001b[39m.\u001b[39mappend(\u001b[39mself\u001b[39;49m\u001b[39m.\u001b[39;49mget_embedding(image, model, model_name))\n\u001b[1;32m     47\u001b[0m \u001b[39mreturn\u001b[39;00m np\u001b[39m.\u001b[39marray(embeddings)\n",
      "File \u001b[0;32m~/Documents/fri-2022-diploma/src/utils/eval.py:35\u001b[0m, in \u001b[0;36mBaseEvaluator.get_embedding\u001b[0;34m(self, image, model, model_name)\u001b[0m\n\u001b[1;32m     34\u001b[0m \u001b[39mdef\u001b[39;00m \u001b[39mget_embedding\u001b[39m(\u001b[39mself\u001b[39m, image, model, model_name):\n\u001b[0;32m---> 35\u001b[0m     \u001b[39mreturn\u001b[39;00m np\u001b[39m.\u001b[39marray(\u001b[39mself\u001b[39;49m\u001b[39m.\u001b[39;49mdeepface\u001b[39m.\u001b[39;49mrepresent(image, model\u001b[39m=\u001b[39;49mmodel, model_name\u001b[39m=\u001b[39;49mmodel_name, enforce_detection\u001b[39m=\u001b[39;49m\u001b[39mFalse\u001b[39;49;00m))\n",
      "File \u001b[0;32m~/miniconda3/envs/diploma_env/lib/python3.9/site-packages/deepface/DeepFace.py:523\u001b[0m, in \u001b[0;36mrepresent\u001b[0;34m(img_path, model_name, model, enforce_detection, detector_backend, align, normalization)\u001b[0m\n\u001b[1;32m    520\u001b[0m \u001b[39mif\u001b[39;00m detector_backend \u001b[39m!=\u001b[39m \u001b[39m\"\u001b[39m\u001b[39mskip\u001b[39m\u001b[39m\"\u001b[39m:\n\u001b[1;32m    521\u001b[0m \ttarget_size \u001b[39m=\u001b[39m functions\u001b[39m.\u001b[39mfind_target_size(model_name\u001b[39m=\u001b[39mmodel_name)\n\u001b[0;32m--> 523\u001b[0m \timg_objs \u001b[39m=\u001b[39m functions\u001b[39m.\u001b[39;49mextract_faces(img \u001b[39m=\u001b[39;49m img_path, \n\u001b[1;32m    524\u001b[0m \t\t\t\t\t\t\ttarget_size \u001b[39m=\u001b[39;49m target_size, \n\u001b[1;32m    525\u001b[0m \t\t\t\t\t\t\tdetector_backend \u001b[39m=\u001b[39;49m detector_backend, \n\u001b[1;32m    526\u001b[0m \t\t\t\t\t\t\tgrayscale \u001b[39m=\u001b[39;49m \u001b[39mFalse\u001b[39;49;00m, \n\u001b[1;32m    527\u001b[0m \t\t\t\t\t\t\tenforce_detection \u001b[39m=\u001b[39;49m enforce_detection, \n\u001b[1;32m    528\u001b[0m \t\t\t\t\t\t\talign \u001b[39m=\u001b[39;49m align)\n\u001b[1;32m    529\u001b[0m \u001b[39melse\u001b[39;00m: \u001b[39m# skip\u001b[39;00m\n\u001b[1;32m    530\u001b[0m \t\u001b[39mif\u001b[39;00m \u001b[39mtype\u001b[39m(img_path) \u001b[39m==\u001b[39m \u001b[39mstr\u001b[39m:\n",
      "File \u001b[0;32m~/miniconda3/envs/diploma_env/lib/python3.9/site-packages/deepface/commons/functions.py:94\u001b[0m, in \u001b[0;36mextract_faces\u001b[0;34m(img, target_size, detector_backend, grayscale, enforce_detection, align)\u001b[0m\n\u001b[1;32m     92\u001b[0m \tface_objs \u001b[39m=\u001b[39m [(img, img_region, \u001b[39m0\u001b[39m)]\n\u001b[1;32m     93\u001b[0m \u001b[39melse\u001b[39;00m:\n\u001b[0;32m---> 94\u001b[0m \tface_detector \u001b[39m=\u001b[39m FaceDetector\u001b[39m.\u001b[39;49mbuild_model(detector_backend)\n\u001b[1;32m     95\u001b[0m \tface_objs \u001b[39m=\u001b[39m FaceDetector\u001b[39m.\u001b[39mdetect_faces(face_detector, detector_backend, img, align)\n\u001b[1;32m     97\u001b[0m \u001b[39m# in case of no face found\u001b[39;00m\n",
      "File \u001b[0;32m~/miniconda3/envs/diploma_env/lib/python3.9/site-packages/deepface/detectors/FaceDetector.py:27\u001b[0m, in \u001b[0;36mbuild_model\u001b[0;34m(detector_backend)\u001b[0m\n\u001b[1;32m     24\u001b[0m face_detector \u001b[39m=\u001b[39m backends\u001b[39m.\u001b[39mget(detector_backend)\n\u001b[1;32m     26\u001b[0m \u001b[39mif\u001b[39;00m face_detector:\n\u001b[0;32m---> 27\u001b[0m     face_detector \u001b[39m=\u001b[39m face_detector()\n\u001b[1;32m     28\u001b[0m     face_detector_obj[detector_backend] \u001b[39m=\u001b[39m face_detector\n\u001b[1;32m     29\u001b[0m     \u001b[39m#print(detector_backend,\" built\")\u001b[39;00m\n\u001b[1;32m     30\u001b[0m \u001b[39melse\u001b[39;00m:\n",
      "File \u001b[0;32m~/miniconda3/envs/diploma_env/lib/python3.9/site-packages/deepface/detectors/OpenCvWrapper.py:10\u001b[0m, in \u001b[0;36mbuild_model\u001b[0;34m()\u001b[0m\n\u001b[1;32m      6\u001b[0m \u001b[39mdef\u001b[39;00m \u001b[39mbuild_model\u001b[39m():\n\u001b[1;32m      8\u001b[0m \tdetector \u001b[39m=\u001b[39m{}\n\u001b[0;32m---> 10\u001b[0m \tdetector[\u001b[39m\"\u001b[39m\u001b[39mface_detector\u001b[39m\u001b[39m\"\u001b[39m] \u001b[39m=\u001b[39m build_cascade(\u001b[39m'\u001b[39;49m\u001b[39mhaarcascade\u001b[39;49m\u001b[39m'\u001b[39;49m)\n\u001b[1;32m     11\u001b[0m \tdetector[\u001b[39m\"\u001b[39m\u001b[39meye_detector\u001b[39m\u001b[39m\"\u001b[39m] \u001b[39m=\u001b[39m build_cascade(\u001b[39m'\u001b[39m\u001b[39mhaarcascade_eye\u001b[39m\u001b[39m'\u001b[39m)\n\u001b[1;32m     13\u001b[0m \t\u001b[39mreturn\u001b[39;00m detector\n",
      "File \u001b[0;32m~/miniconda3/envs/diploma_env/lib/python3.9/site-packages/deepface/detectors/OpenCvWrapper.py:23\u001b[0m, in \u001b[0;36mbuild_cascade\u001b[0;34m(model_name)\u001b[0m\n\u001b[1;32m     20\u001b[0m face_detector_path \u001b[39m=\u001b[39m opencv_path\u001b[39m+\u001b[39m\u001b[39m\"\u001b[39m\u001b[39mhaarcascade_frontalface_default.xml\u001b[39m\u001b[39m\"\u001b[39m\n\u001b[1;32m     22\u001b[0m \u001b[39mif\u001b[39;00m os\u001b[39m.\u001b[39mpath\u001b[39m.\u001b[39misfile(face_detector_path) \u001b[39m!=\u001b[39m \u001b[39mTrue\u001b[39;00m:\n\u001b[0;32m---> 23\u001b[0m \t\u001b[39mraise\u001b[39;00m \u001b[39mValueError\u001b[39;00m(\u001b[39m\"\u001b[39m\u001b[39mConfirm that opencv is installed on your environment! Expected path \u001b[39m\u001b[39m\"\u001b[39m,face_detector_path,\u001b[39m\"\u001b[39m\u001b[39m violated.\u001b[39m\u001b[39m\"\u001b[39m)\n\u001b[1;32m     26\u001b[0m face_detector \u001b[39m=\u001b[39m cv2\u001b[39m.\u001b[39mCascadeClassifier(face_detector_path)\n\u001b[1;32m     27\u001b[0m \u001b[39mreturn\u001b[39;00m face_detector\n",
      "\u001b[0;31mValueError\u001b[0m: ('Confirm that opencv is installed on your environment! Expected path ', '/home/vidp/miniconda3/envs/diploma_env/lib/python3.9/site-packages/data/haarcascade_frontalface_default.xml', ' violated.')"
     ]
    }
   ],
   "source": [
    "eval_res_f_fn = eval.evaluate_batch(images_eval_f, images_hat_eval_f, model_name='Facenet512')\n",
    "images_hat_eval_arr_f_labeled_fn = zip(images_hat_eval_arr_f, eval_res_f_fn)\n",
    "images_hat_eval_pil_f_fn = toPIL(torchvision.utils.make_grid([toTensor(image_add_label(pil, str(round(label, 3)), 40).resize((256, 256))) for pil, label in images_hat_eval_arr_f_labeled_fn], nrow=1)).convert(\"RGB\")\n",
    "images_hat_eval_pil_f_fn.save(output_path + \"/images_eval_hat_f_fn.png\")\n",
    "eval_res_f_fn\n",
    "\n",
    "eval_res_m_fn = eval.evaluate_batch(images_eval_m, images_hat_eval_m, model_name='Facenet512')\n",
    "images_hat_eval_arr_m_labeled_fn = zip(images_hat_eval_arr_m, eval_res_m_fn)\n",
    "images_hat_eval_pil_m_fn = toPIL(torchvision.utils.make_grid([toTensor(image_add_label(pil, str(round(label, 3)), 40).resize((256, 256))) for pil, label in images_hat_eval_arr_m_labeled_fn], nrow=1)).convert(\"RGB\")\n",
    "images_hat_eval_pil_m_fn.save(output_path + \"/images_eval_hat_m_fn.png\")\n",
    "eval_res_m_fn\n"
   ]
  },
  {
   "cell_type": "code",
   "execution_count": null,
   "metadata": {},
   "outputs": [],
   "source": [
    "eval_res_f_af = eval.evaluate_batch(images_eval_f, images_hat_eval_f, model_name='ArcFace')\n",
    "images_hat_eval_arr_f_labeled_af = zip(images_hat_eval_arr_f, eval_res_f_af)\n",
    "images_hat_eval_pil_f_af = toPIL(torchvision.utils.make_grid([toTensor(image_add_label(pil, str(round(label, 3)), 40).resize((256, 256))) for pil, label in images_hat_eval_arr_f_labeled_af], nrow=1)).convert(\"RGB\")\n",
    "images_hat_eval_pil_f_af.save(output_path + \"/images_eval_hat_f_af.png\")\n",
    "eval_res_f_af\n",
    "\n",
    "eval_res_m_af = eval.evaluate_batch(images_eval_m, images_hat_eval_m, model_name='ArcFace')\n",
    "images_hat_eval_arr_m_labeled_af = zip(images_hat_eval_arr_m, eval_res_m_af)\n",
    "images_hat_eval_pil_m_af = toPIL(torchvision.utils.make_grid([toTensor(image_add_label(pil, str(round(label, 3)), 40).resize((256, 256))) for pil, label in images_hat_eval_arr_m_labeled_af], nrow=1)).convert(\"RGB\")\n",
    "images_hat_eval_pil_m_af.save(output_path + \"/images_eval_hat_m_af.png\")\n",
    "eval_res_m_af\n"
   ]
  },
  {
   "cell_type": "code",
   "execution_count": null,
   "metadata": {},
   "outputs": [],
   "source": [
    "eval_res_vgg = eval.evaluate_batch(images_eval_f, images_hat_eval_f, model_name='VGG-Face')\n",
    "images_hat_eval_arr_f_labeled_vgg = zip(images_hat_eval_arr_f, eval_res_vgg)\n",
    "images_hat_eval_pil_f_vgg = toPIL(torchvision.utils.make_grid([toTensor(image_add_label(pil, str(round(label, 3)), 40).resize((256, 256))) for pil, label in images_hat_eval_arr_f_labeled_vgg], nrow=1)).convert(\"RGB\")\n",
    "images_hat_eval_pil_f_vgg.save(output_path + \"/images_eval_hat_f_vgg.png\")\n",
    "eval_res_vgg\n",
    "\n",
    "eval_res_vgg = eval.evaluate_batch(images_eval_m, images_hat_eval_m, model_name='VGG-Face')\n",
    "images_hat_eval_arr_m_labeled_vgg = zip(images_hat_eval_arr_m, eval_res_vgg)\n",
    "images_hat_eval_pil_m_vgg = toPIL(torchvision.utils.make_grid([toTensor(image_add_label(pil, str(round(label, 3)), 40).resize((256, 256))) for pil, label in images_hat_eval_arr_m_labeled_vgg], nrow=1)).convert(\"RGB\")\n",
    "images_hat_eval_pil_m_vgg.save(output_path + \"/images_eval_hat_m_vgg.png\")\n",
    "eval_res_vgg\n"
   ]
  }
 ],
 "metadata": {
  "kernelspec": {
   "display_name": "diploma_env",
   "language": "python",
   "name": "python3"
  },
  "language_info": {
   "codemirror_mode": {
    "name": "ipython",
    "version": 3
   },
   "file_extension": ".py",
   "mimetype": "text/x-python",
   "name": "python",
   "nbconvert_exporter": "python",
   "pygments_lexer": "ipython3",
   "version": "3.9.7"
  },
  "metadata": {
   "interpreter": {
    "hash": "2ca3a44b8209f7ad007e433b11a4146eceddfdad5cdb64f89eb05e06944554d2"
   }
  },
  "orig_nbformat": 2,
  "vscode": {
   "interpreter": {
    "hash": "5784ea47edf0f92e3a1ee20b3bb0ffe69aee936c1e03cfab6dae269c9ccd7409"
   }
  }
 },
 "nbformat": 4,
 "nbformat_minor": 2
}
