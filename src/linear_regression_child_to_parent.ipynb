{
 "cells": [
  {
   "attachments": {},
   "cell_type": "markdown",
   "metadata": {},
   "source": [
    "# Child to Parents mappings in StyleGAN2 latent space using the Ridge Regression"
   ]
  },
  {
   "cell_type": "code",
   "execution_count": 2,
   "metadata": {},
   "outputs": [],
   "source": [
    "from dataset.nok_mean import NokMeanDataset\n",
    "from dataset.nok import NokDataset\n",
    "from dataset.nok_aug import NokAugDataset\n",
    "from utils.stylegan import StyleGAN2\n",
    "from utils.eval import BaseEvaluator\n",
    "from utils.viz import image_add_label\n",
    "import os\n",
    "import sys\n",
    "import numpy as np\n",
    "import torch, torchvision\n",
    "from PIL import Image\n",
    "\n",
    "from sklearn.linear_model import LinearRegression, Ridge\n",
    "from sklearn.metrics import mean_squared_error\n"
   ]
  },
  {
   "cell_type": "code",
   "execution_count": 3,
   "metadata": {},
   "outputs": [],
   "source": [
    "def load_data(split):\n",
    "    X = []\n",
    "    y = []\n",
    "    for father, mother, child, *_ in NokMeanDataset(split=split):\n",
    "        input = child.flatten(0)\n",
    "        output = torch.cat([father.flatten(0), mother.flatten(0)], dim=0)\n",
    "        X.append(input)\n",
    "        y.append(output)\n",
    "    X = torch.stack(X, dim=0)\n",
    "    y = torch.stack(y, dim=0)\n",
    "    return X, y"
   ]
  },
  {
   "cell_type": "code",
   "execution_count": 5,
   "metadata": {},
   "outputs": [],
   "source": [
    "output_path = \"/home/vidp/Documents/fri-2022-diploma/src/.tmp/stylegan2-ada-pytorch/child_to_parent_2\"\n",
    "os.mkdir(output_path)"
   ]
  },
  {
   "cell_type": "code",
   "execution_count": 6,
   "metadata": {},
   "outputs": [
    {
     "name": "stdout",
     "output_type": "stream",
     "text": [
      "Loaded 433 persons with 2676 images.\n",
      "Average images per person: 6.180138568129331\n",
      "Max images per person: 37\n",
      "Min images per person: 1\n",
      "[13, 12, 6, 1, 4, 2, 6, 9, 8, 2, 4, 7, 1, 6, 3, 3, 5, 8, 12, 4, 3, 6, 20, 4, 10, 3, 7, 3, 1, 4, 5, 9, 5, 8, 2, 4, 4, 3, 3, 2, 11, 2, 7, 14, 8, 10, 2, 1, 2, 9, 11, 5, 1, 1, 5, 2, 5, 5, 8, 1, 1, 5, 5, 3, 1, 3, 7, 23, 14, 15, 16, 5, 4, 1, 3, 9, 5, 6, 5, 1, 2, 5, 16, 4, 2, 1, 5, 2, 6, 24, 5, 15, 3, 9, 13, 2, 5, 6, 9, 7, 4, 8, 4, 7, 5, 11, 4, 9, 7, 6, 6, 7, 8, 5, 7, 5, 18, 10, 6, 8, 1, 5, 5, 9, 14, 6, 6, 1, 11, 14, 2, 7, 1, 2, 4, 4, 17, 5, 1, 6, 6, 4, 2, 3, 4, 5, 1, 2, 4, 4, 9, 3, 6, 2, 3, 5, 8, 6, 7, 14, 6, 5, 18, 9, 5, 3, 13, 3, 12, 5, 14, 5, 5, 1, 5, 9, 2, 9, 2, 6, 10, 8, 10, 12, 9, 6, 19, 10, 7, 37, 9, 6, 1, 1, 4, 24, 7, 3, 3, 4, 6, 13, 5, 8, 4, 5, 4, 2, 24, 5, 19, 6, 5, 13, 5, 3, 7, 8, 11, 4, 12, 7, 8, 7, 14, 15, 6, 8, 4, 5, 3, 5, 6, 8, 11, 6, 2, 2, 10, 4, 4, 3, 1, 1, 1, 1, 2, 1, 2, 5, 1, 16, 9, 8, 4, 4, 1, 9, 3, 5, 7, 8, 3, 2, 6, 4, 1, 5, 2, 4, 5, 6, 4, 2, 5, 5, 2, 7, 11, 13, 10, 7, 2, 5, 2, 4, 2, 4, 4, 1, 3, 1, 4, 3, 4, 4, 4, 3, 2, 7, 2, 11, 5, 4, 3, 1, 5, 11, 8, 3, 1, 9, 4, 4, 5, 7, 9, 6, 4, 2, 4, 16, 7, 4, 7, 8, 8, 9, 9, 3, 6, 10, 2, 6, 3, 5, 7, 2, 12, 5, 7, 6, 7, 20, 4, 3, 2, 1, 1, 2, 6, 4, 2, 5, 5, 3, 4, 6, 2, 24, 10, 16, 1, 5, 1, 5, 15, 14, 5, 3, 1, 3, 5, 2, 3, 16, 2, 1, 4, 2, 2, 5, 4, 3, 5, 10, 11, 1, 2, 3, 3, 1, 3, 9, 5, 4, 6, 12, 16, 4, 2, 12, 3, 3, 5, 4, 1, 7, 17, 1, 4, 4, 8, 7, 6, 5, 13, 12, 3, 5, 6, 6, 12, 9, 10, 5, 8, 8, 10, 16, 15, 13, 7]\n",
      "Loaded 60 persons with 508 images.\n",
      "Average images per person: 8.466666666666667\n",
      "Max images per person: 15\n",
      "Min images per person: 2\n",
      "[7, 9, 12, 7, 6, 11, 8, 7, 6, 12, 10, 8, 10, 9, 11, 10, 5, 8, 4, 5, 5, 7, 15, 4, 13, 5, 2, 12, 4, 12, 7, 10, 8, 15, 11, 4, 5, 6, 5, 4, 10, 10, 10, 9, 12, 6, 11, 10, 13, 9, 8, 10, 5, 8, 9, 7, 14, 8, 5, 15]\n"
     ]
    }
   ],
   "source": [
    "X_train, y_train = load_data(split=\"train\")\n",
    "X_test, y_test = load_data(split=\"test\")"
   ]
  },
  {
   "cell_type": "code",
   "execution_count": 7,
   "metadata": {},
   "outputs": [
    {
     "data": {
      "text/plain": [
       "(torch.Size([207, 9216]),\n",
       " torch.Size([207, 18432]),\n",
       " torch.Size([20, 9216]),\n",
       " torch.Size([20, 18432]))"
      ]
     },
     "execution_count": 7,
     "metadata": {},
     "output_type": "execute_result"
    }
   ],
   "source": [
    "X_train.shape, y_train.shape, X_test.shape, y_test.shape\n"
   ]
  },
  {
   "cell_type": "code",
   "execution_count": 8,
   "metadata": {},
   "outputs": [
    {
     "data": {
      "text/html": [
       "<style>#sk-container-id-1 {color: black;background-color: white;}#sk-container-id-1 pre{padding: 0;}#sk-container-id-1 div.sk-toggleable {background-color: white;}#sk-container-id-1 label.sk-toggleable__label {cursor: pointer;display: block;width: 100%;margin-bottom: 0;padding: 0.3em;box-sizing: border-box;text-align: center;}#sk-container-id-1 label.sk-toggleable__label-arrow:before {content: \"▸\";float: left;margin-right: 0.25em;color: #696969;}#sk-container-id-1 label.sk-toggleable__label-arrow:hover:before {color: black;}#sk-container-id-1 div.sk-estimator:hover label.sk-toggleable__label-arrow:before {color: black;}#sk-container-id-1 div.sk-toggleable__content {max-height: 0;max-width: 0;overflow: hidden;text-align: left;background-color: #f0f8ff;}#sk-container-id-1 div.sk-toggleable__content pre {margin: 0.2em;color: black;border-radius: 0.25em;background-color: #f0f8ff;}#sk-container-id-1 input.sk-toggleable__control:checked~div.sk-toggleable__content {max-height: 200px;max-width: 100%;overflow: auto;}#sk-container-id-1 input.sk-toggleable__control:checked~label.sk-toggleable__label-arrow:before {content: \"▾\";}#sk-container-id-1 div.sk-estimator input.sk-toggleable__control:checked~label.sk-toggleable__label {background-color: #d4ebff;}#sk-container-id-1 div.sk-label input.sk-toggleable__control:checked~label.sk-toggleable__label {background-color: #d4ebff;}#sk-container-id-1 input.sk-hidden--visually {border: 0;clip: rect(1px 1px 1px 1px);clip: rect(1px, 1px, 1px, 1px);height: 1px;margin: -1px;overflow: hidden;padding: 0;position: absolute;width: 1px;}#sk-container-id-1 div.sk-estimator {font-family: monospace;background-color: #f0f8ff;border: 1px dotted black;border-radius: 0.25em;box-sizing: border-box;margin-bottom: 0.5em;}#sk-container-id-1 div.sk-estimator:hover {background-color: #d4ebff;}#sk-container-id-1 div.sk-parallel-item::after {content: \"\";width: 100%;border-bottom: 1px solid gray;flex-grow: 1;}#sk-container-id-1 div.sk-label:hover label.sk-toggleable__label {background-color: #d4ebff;}#sk-container-id-1 div.sk-serial::before {content: \"\";position: absolute;border-left: 1px solid gray;box-sizing: border-box;top: 0;bottom: 0;left: 50%;z-index: 0;}#sk-container-id-1 div.sk-serial {display: flex;flex-direction: column;align-items: center;background-color: white;padding-right: 0.2em;padding-left: 0.2em;position: relative;}#sk-container-id-1 div.sk-item {position: relative;z-index: 1;}#sk-container-id-1 div.sk-parallel {display: flex;align-items: stretch;justify-content: center;background-color: white;position: relative;}#sk-container-id-1 div.sk-item::before, #sk-container-id-1 div.sk-parallel-item::before {content: \"\";position: absolute;border-left: 1px solid gray;box-sizing: border-box;top: 0;bottom: 0;left: 50%;z-index: -1;}#sk-container-id-1 div.sk-parallel-item {display: flex;flex-direction: column;z-index: 1;position: relative;background-color: white;}#sk-container-id-1 div.sk-parallel-item:first-child::after {align-self: flex-end;width: 50%;}#sk-container-id-1 div.sk-parallel-item:last-child::after {align-self: flex-start;width: 50%;}#sk-container-id-1 div.sk-parallel-item:only-child::after {width: 0;}#sk-container-id-1 div.sk-dashed-wrapped {border: 1px dashed gray;margin: 0 0.4em 0.5em 0.4em;box-sizing: border-box;padding-bottom: 0.4em;background-color: white;}#sk-container-id-1 div.sk-label label {font-family: monospace;font-weight: bold;display: inline-block;line-height: 1.2em;}#sk-container-id-1 div.sk-label-container {text-align: center;}#sk-container-id-1 div.sk-container {/* jupyter's `normalize.less` sets `[hidden] { display: none; }` but bootstrap.min.css set `[hidden] { display: none !important; }` so we also need the `!important` here to be able to override the default hidden behavior on the sphinx rendered scikit-learn.org. See: https://github.com/scikit-learn/scikit-learn/issues/21755 */display: inline-block !important;position: relative;}#sk-container-id-1 div.sk-text-repr-fallback {display: none;}</style><div id=\"sk-container-id-1\" class=\"sk-top-container\"><div class=\"sk-text-repr-fallback\"><pre>Ridge()</pre><b>In a Jupyter environment, please rerun this cell to show the HTML representation or trust the notebook. <br />On GitHub, the HTML representation is unable to render, please try loading this page with nbviewer.org.</b></div><div class=\"sk-container\" hidden><div class=\"sk-item\"><div class=\"sk-estimator sk-toggleable\"><input class=\"sk-toggleable__control sk-hidden--visually\" id=\"sk-estimator-id-1\" type=\"checkbox\" checked><label for=\"sk-estimator-id-1\" class=\"sk-toggleable__label sk-toggleable__label-arrow\">Ridge</label><div class=\"sk-toggleable__content\"><pre>Ridge()</pre></div></div></div></div></div>"
      ],
      "text/plain": [
       "Ridge()"
      ]
     },
     "execution_count": 8,
     "metadata": {},
     "output_type": "execute_result"
    }
   ],
   "source": [
    "regressor = Ridge()\n",
    "regressor.fit(X_train, y_train)"
   ]
  },
  {
   "cell_type": "code",
   "execution_count": 9,
   "metadata": {},
   "outputs": [],
   "source": [
    "y_train_hat = regressor.predict(X_train)\n",
    "y_test_hat = regressor.predict(X_test)"
   ]
  },
  {
   "cell_type": "code",
   "execution_count": 10,
   "metadata": {},
   "outputs": [],
   "source": [
    "mse_train = mean_squared_error(y_train, y_train_hat)\n",
    "mse_test = mean_squared_error(y_test, y_test_hat)"
   ]
  },
  {
   "cell_type": "code",
   "execution_count": 11,
   "metadata": {},
   "outputs": [
    {
     "data": {
      "text/plain": [
       "(0.006931318842053702, 1.0244137798614488)"
      ]
     },
     "execution_count": 11,
     "metadata": {},
     "output_type": "execute_result"
    }
   ],
   "source": [
    "mse_train, mse_test"
   ]
  },
  {
   "cell_type": "code",
   "execution_count": 12,
   "metadata": {},
   "outputs": [],
   "source": [
    "images = []\n",
    "for i in range(y_test.shape[0]):\n",
    "    images.append(X_test[i].view(18, 512))\n",
    "    images.append(y_test[i,:18*512].view(18, 512))\n",
    "    images.append(y_test[i,18*512:].view(18, 512))\n",
    "    images.append(torch.from_numpy(y_test_hat[i,:18*512]).to(torch.float32).view(18, 512))\n",
    "    images.append(torch.from_numpy(y_test_hat[i,18*512:]).to(torch.float32).view(18, 512))\n",
    "images = torch.stack(images, dim=0)"
   ]
  },
  {
   "attachments": {},
   "cell_type": "markdown",
   "metadata": {},
   "source": [
    "## Visualize and evaluate results"
   ]
  },
  {
   "cell_type": "code",
   "execution_count": 13,
   "metadata": {},
   "outputs": [
    {
     "name": "stdout",
     "output_type": "stream",
     "text": [
      "<docker.models.images.ImageCollection object at 0x7f9f37c06400>\n",
      "Got StyleGAN2 docker client, building image...\n",
      "StyleGAN2 Docker image built.\n"
     ]
    }
   ],
   "source": [
    "toTensor = torchvision.transforms.PILToTensor()\n",
    "toPIL = torchvision.transforms.ToPILImage()\n",
    "eval = BaseEvaluator()\n",
    "stylegan = StyleGAN2(tmp_path=output_path)"
   ]
  },
  {
   "cell_type": "code",
   "execution_count": 14,
   "metadata": {},
   "outputs": [
    {
     "name": "stdout",
     "output_type": "stream",
     "text": [
      "Generating 100 images from array...\n",
      "[INFO] StyleGAN2 - Generating image...\n",
      "Loading networks from \"https://nvlabs-fi-cdn.nvidia.com/stylegan2-ada-pytorch/pretrained/ffhq.pkl\"...\n",
      "\n",
      "Traceback (most recent call last):\n",
      "\n",
      "  File \"./submodules/stylegan2-ada-pytorch/generate.py\", line 127, in <module>\n",
      "\n",
      "    generate_images() # pylint: disable=no-value-for-parameter\n",
      "\n",
      "  File \"/opt/conda/lib/python3.8/site-packages/click/core.py\", line 829, in __call__\n",
      "\n",
      "    return self.main(*args, **kwargs)\n",
      "\n",
      "  File \"/opt/conda/lib/python3.8/site-packages/click/core.py\", line 782, in main\n",
      "\n",
      "    rv = self.invoke(ctx)\n",
      "\n",
      "  File \"/opt/conda/lib/python3.8/site-packages/click/core.py\", line 1066, in invoke\n",
      "\n",
      "    return ctx.invoke(self.callback, **ctx.params)\n",
      "\n",
      "  File \"/opt/conda/lib/python3.8/site-packages/click/core.py\", line 610, in invoke\n",
      "\n",
      "    return callback(*args, **kwargs)\n",
      "\n",
      "  File \"/opt/conda/lib/python3.8/site-packages/click/decorators.py\", line 21, in new_func\n",
      "\n",
      "    return f(get_current_context(), *args, **kwargs)\n",
      "\n",
      "  File \"./submodules/stylegan2-ada-pytorch/generate.py\", line 86, in generate_images\n",
      "\n",
      "    os.makedirs(outdir, exist_ok=True)\n",
      "\n",
      "  File \"/opt/conda/lib/python3.8/os.py\", line 213, in makedirs\n",
      "\n",
      "    makedirs(head, exist_ok=exist_ok)\n",
      "\n",
      "  File \"/opt/conda/lib/python3.8/os.py\", line 213, in makedirs\n",
      "\n",
      "    makedirs(head, exist_ok=exist_ok)\n",
      "\n",
      "  File \"/opt/conda/lib/python3.8/os.py\", line 213, in makedirs\n",
      "\n",
      "    makedirs(head, exist_ok=exist_ok)\n",
      "\n",
      "  [Previous line repeated 3 more times]\n",
      "\n",
      "  File \"/opt/conda/lib/python3.8/os.py\", line 223, in makedirs\n",
      "\n",
      "    mkdir(name, mode)\n",
      "\n",
      "PermissionError: [Errno 13] Permission denied: '/home/vidp'\n",
      "\n"
     ]
    },
    {
     "ename": "Exception",
     "evalue": "Container exited with the status code 1...",
     "output_type": "error",
     "traceback": [
      "\u001b[0;31m---------------------------------------------------------------------------\u001b[0m",
      "\u001b[0;31mException\u001b[0m                                 Traceback (most recent call last)",
      "Cell \u001b[0;32mIn[14], line 1\u001b[0m\n\u001b[0;32m----> 1\u001b[0m pils \u001b[39m=\u001b[39m stylegan\u001b[39m.\u001b[39;49mgenerate_from_array(images\u001b[39m.\u001b[39;49mdetach()\u001b[39m.\u001b[39;49mcpu()\u001b[39m.\u001b[39;49mnumpy())\n\u001b[1;32m      2\u001b[0m pil \u001b[39m=\u001b[39m toPIL(torchvision\u001b[39m.\u001b[39mutils\u001b[39m.\u001b[39mmake_grid([toTensor(pil\u001b[39m.\u001b[39mresize((\u001b[39m128\u001b[39m,\u001b[39m128\u001b[39m))) \u001b[39mfor\u001b[39;00m pil \u001b[39min\u001b[39;00m pils], nrow\u001b[39m=\u001b[39m\u001b[39m5\u001b[39m))\u001b[39m.\u001b[39mconvert(\u001b[39m\"\u001b[39m\u001b[39mRGB\u001b[39m\u001b[39m\"\u001b[39m)\n\u001b[1;32m      3\u001b[0m pil\u001b[39m.\u001b[39msave(output_path \u001b[39m+\u001b[39m \u001b[39m\"\u001b[39m\u001b[39m/result.png\u001b[39m\u001b[39m\"\u001b[39m)\n",
      "File \u001b[0;32m~/Documents/fri-2022-diploma/src/utils/stylegan.py:38\u001b[0m, in \u001b[0;36mStyleGAN2.generate_from_array\u001b[0;34m(self, array)\u001b[0m\n\u001b[1;32m     36\u001b[0m os\u001b[39m.\u001b[39mmakedirs(\u001b[39mself\u001b[39m\u001b[39m.\u001b[39mtmp_path, exist_ok\u001b[39m=\u001b[39m\u001b[39mTrue\u001b[39;00m)\n\u001b[1;32m     37\u001b[0m np\u001b[39m.\u001b[39msavez(\u001b[39mf\u001b[39m\u001b[39m'\u001b[39m\u001b[39m{\u001b[39;00m\u001b[39mself\u001b[39m\u001b[39m.\u001b[39mtmp_path\u001b[39m}\u001b[39;00m\u001b[39m/projected_w.npz\u001b[39m\u001b[39m'\u001b[39m, w\u001b[39m=\u001b[39marray)\n\u001b[0;32m---> 38\u001b[0m \u001b[39mreturn\u001b[39;00m \u001b[39mself\u001b[39;49m\u001b[39m.\u001b[39;49m_generate_from_file(\u001b[39mf\u001b[39;49m\u001b[39m'\u001b[39;49m\u001b[39m{\u001b[39;49;00m\u001b[39mself\u001b[39;49m\u001b[39m.\u001b[39;49mtmp_path\u001b[39m}\u001b[39;49;00m\u001b[39m/projected_w.npz\u001b[39;49m\u001b[39m'\u001b[39;49m, array\u001b[39m.\u001b[39;49mshape[\u001b[39m0\u001b[39;49m])\n",
      "File \u001b[0;32m~/Documents/fri-2022-diploma/src/utils/stylegan.py:41\u001b[0m, in \u001b[0;36mStyleGAN2._generate_from_file\u001b[0;34m(self, file, n)\u001b[0m\n\u001b[1;32m     40\u001b[0m \u001b[39mdef\u001b[39;00m \u001b[39m_generate_from_file\u001b[39m(\u001b[39mself\u001b[39m, file: \u001b[39mstr\u001b[39m, n: \u001b[39mint\u001b[39m):\n\u001b[0;32m---> 41\u001b[0m     \u001b[39mself\u001b[39;49m\u001b[39m.\u001b[39;49m_generate_from_command([\u001b[39mf\u001b[39;49m\u001b[39m\"\u001b[39;49m\u001b[39m--projected-w=\u001b[39;49m\u001b[39m{\u001b[39;49;00mfile\u001b[39m}\u001b[39;49;00m\u001b[39m\"\u001b[39;49m])\n\u001b[1;32m     42\u001b[0m     \u001b[39mreturn\u001b[39;00m [Image\u001b[39m.\u001b[39mopen(\u001b[39mf\u001b[39m\u001b[39m\"\u001b[39m\u001b[39m{\u001b[39;00m\u001b[39mself\u001b[39m\u001b[39m.\u001b[39mtmp_path\u001b[39m}\u001b[39;00m\u001b[39m/proj\u001b[39m\u001b[39m{\u001b[39;00midx\u001b[39m:\u001b[39;00m\u001b[39m02d\u001b[39m\u001b[39m}\u001b[39;00m\u001b[39m.png\u001b[39m\u001b[39m\"\u001b[39m)\u001b[39m.\u001b[39mconvert(\u001b[39m'\u001b[39m\u001b[39mRGB\u001b[39m\u001b[39m'\u001b[39m) \u001b[39mfor\u001b[39;00m idx \u001b[39min\u001b[39;00m \u001b[39mrange\u001b[39m(n)]\n",
      "File \u001b[0;32m~/Documents/fri-2022-diploma/src/utils/stylegan.py:75\u001b[0m, in \u001b[0;36mStyleGAN2._generate_from_command\u001b[0;34m(self, command)\u001b[0m\n\u001b[1;32m     73\u001b[0m \u001b[39mdef\u001b[39;00m \u001b[39m_generate_from_command\u001b[39m(\u001b[39mself\u001b[39m, command):\n\u001b[1;32m     74\u001b[0m     \u001b[39mif\u001b[39;00m \u001b[39mself\u001b[39m\u001b[39m.\u001b[39mverbose: \u001b[39mprint\u001b[39m(\u001b[39m\"\u001b[39m\u001b[39m[INFO] StyleGAN2 - Generating image...\u001b[39m\u001b[39m\"\u001b[39m)\n\u001b[0;32m---> 75\u001b[0m     \u001b[39mreturn\u001b[39;00m \u001b[39mself\u001b[39;49m\u001b[39m.\u001b[39;49m_run_command([\n\u001b[1;32m     76\u001b[0m         \u001b[39m\"\u001b[39;49m\u001b[39mpython3\u001b[39;49m\u001b[39m\"\u001b[39;49m,\n\u001b[1;32m     77\u001b[0m         \u001b[39mf\u001b[39;49m\u001b[39m\"\u001b[39;49m\u001b[39m{\u001b[39;49;00m\u001b[39mself\u001b[39;49m\u001b[39m.\u001b[39;49mroot_path\u001b[39m}\u001b[39;49;00m\u001b[39m/generate.py\u001b[39;49m\u001b[39m\"\u001b[39;49m,\n\u001b[1;32m     78\u001b[0m         \u001b[39m\"\u001b[39;49m\u001b[39m--network=https://nvlabs-fi-cdn.nvidia.com/stylegan2-ada-pytorch/pretrained/ffhq.pkl\u001b[39;49m\u001b[39m\"\u001b[39;49m,\n\u001b[1;32m     79\u001b[0m         \u001b[39mf\u001b[39;49m\u001b[39m\"\u001b[39;49m\u001b[39m--outdir=\u001b[39;49m\u001b[39m{\u001b[39;49;00m\u001b[39mself\u001b[39;49m\u001b[39m.\u001b[39;49mtmp_path\u001b[39m}\u001b[39;49;00m\u001b[39m\"\u001b[39;49m,\n\u001b[1;32m     80\u001b[0m         \u001b[39m\"\u001b[39;49m\u001b[39m--noise-mode=random\u001b[39;49m\u001b[39m\"\u001b[39;49m\n\u001b[1;32m     81\u001b[0m     ] \u001b[39m+\u001b[39;49m command)\n",
      "File \u001b[0;32m~/Documents/fri-2022-diploma/src/utils/stylegan.py:71\u001b[0m, in \u001b[0;36mStyleGAN2._run_command\u001b[0;34m(self, command)\u001b[0m\n\u001b[1;32m     69\u001b[0m result \u001b[39m=\u001b[39m container\u001b[39m.\u001b[39mwait()\n\u001b[1;32m     70\u001b[0m \u001b[39mif\u001b[39;00m result[\u001b[39m\"\u001b[39m\u001b[39mStatusCode\u001b[39m\u001b[39m\"\u001b[39m] \u001b[39m!=\u001b[39m \u001b[39m0\u001b[39m:\n\u001b[0;32m---> 71\u001b[0m     \u001b[39mraise\u001b[39;00m \u001b[39mException\u001b[39;00m(\u001b[39mf\u001b[39m\u001b[39m\"\u001b[39m\u001b[39mContainer exited with the status code \u001b[39m\u001b[39m{\u001b[39;00mresult[\u001b[39m'\u001b[39m\u001b[39mStatusCode\u001b[39m\u001b[39m'\u001b[39m]\u001b[39m}\u001b[39;00m\u001b[39m...\u001b[39m\u001b[39m\"\u001b[39m)\n",
      "\u001b[0;31mException\u001b[0m: Container exited with the status code 1..."
     ]
    }
   ],
   "source": [
    "pils = stylegan.generate_from_array(images.detach().cpu().numpy())\n",
    "pil = toPIL(torchvision.utils.make_grid([toTensor(pil.resize((128,128))) for pil in pils], nrow=5)).convert(\"RGB\")\n",
    "pil.save(output_path + \"/result.png\")"
   ]
  },
  {
   "cell_type": "code",
   "execution_count": 36,
   "metadata": {},
   "outputs": [],
   "source": [
    "pils_reshaped = np.array([np.array(pil).reshape(1024, 1024, 3) for pil in pils])\n",
    "pils_reshaped = pils_reshaped.reshape(-1, 5, 1024, 1024, 3)\n",
    "images_eval_f = pils_reshaped[:, 1]\n",
    "images_eval_m = pils_reshaped[:, 2]\n",
    "images_hat_eval_f = pils_reshaped[:, 3]\n",
    "images_hat_eval_m = pils_reshaped[:, 4]"
   ]
  },
  {
   "cell_type": "code",
   "execution_count": 37,
   "metadata": {},
   "outputs": [],
   "source": [
    "images_eval_arr_f = [Image.fromarray(i).convert(\"RGB\") for i in images_eval_f]\n",
    "images_eval_arr_m = [Image.fromarray(i).convert(\"RGB\") for i in images_eval_m]\n",
    "images_hat_eval_arr_f = [Image.fromarray(i).convert(\"RGB\") for i in images_hat_eval_f]\n",
    "images_hat_eval_arr_m = [Image.fromarray(i).convert(\"RGB\") for i in images_hat_eval_m]"
   ]
  },
  {
   "cell_type": "code",
   "execution_count": 38,
   "metadata": {},
   "outputs": [],
   "source": [
    "images_eval_pil_f = toPIL(torchvision.utils.make_grid([toTensor(pil.resize((128, 128))) for pil in images_eval_arr_f], nrow=1)).convert(\"RGB\")\n",
    "images_eval_pil_f.save(output_path + \"/images_eval_f.png\")\n",
    "\n",
    "images_eval_pil_m = toPIL(torchvision.utils.make_grid([toTensor(pil.resize((128, 128))) for pil in images_eval_arr_m], nrow=1)).convert(\"RGB\")\n",
    "images_eval_pil_m.save(output_path + \"/images_eval_m.png\")"
   ]
  },
  {
   "cell_type": "code",
   "execution_count": 45,
   "metadata": {},
   "outputs": [
    {
     "name": "stdout",
     "output_type": "stream",
     "text": [
      "1/1 [==============================] - 0s 37ms/step\n",
      "1/1 [==============================] - 0s 41ms/step\n",
      "1/1 [==============================] - 0s 38ms/step\n",
      "1/1 [==============================] - 0s 39ms/step\n",
      "1/1 [==============================] - 0s 40ms/step\n",
      "1/1 [==============================] - 0s 39ms/step\n",
      "1/1 [==============================] - 0s 46ms/step\n",
      "1/1 [==============================] - 0s 39ms/step\n",
      "1/1 [==============================] - 0s 40ms/step\n",
      "1/1 [==============================] - 0s 38ms/step\n",
      "1/1 [==============================] - 0s 38ms/step\n",
      "1/1 [==============================] - 0s 40ms/step\n",
      "1/1 [==============================] - 0s 38ms/step\n",
      "1/1 [==============================] - 0s 37ms/step\n",
      "1/1 [==============================] - 0s 38ms/step\n",
      "1/1 [==============================] - 0s 39ms/step\n",
      "1/1 [==============================] - 0s 38ms/step\n",
      "1/1 [==============================] - 0s 38ms/step\n",
      "1/1 [==============================] - 0s 41ms/step\n",
      "1/1 [==============================] - 0s 41ms/step\n",
      "1/1 [==============================] - 0s 41ms/step\n",
      "1/1 [==============================] - 0s 38ms/step\n",
      "1/1 [==============================] - 0s 39ms/step\n",
      "1/1 [==============================] - 0s 38ms/step\n",
      "1/1 [==============================] - 0s 39ms/step\n",
      "1/1 [==============================] - 0s 38ms/step\n",
      "1/1 [==============================] - 0s 40ms/step\n",
      "1/1 [==============================] - 0s 38ms/step\n",
      "1/1 [==============================] - 0s 40ms/step\n",
      "1/1 [==============================] - 0s 39ms/step\n",
      "1/1 [==============================] - 0s 39ms/step\n",
      "1/1 [==============================] - 0s 38ms/step\n",
      "1/1 [==============================] - 0s 40ms/step\n",
      "1/1 [==============================] - 0s 39ms/step\n",
      "1/1 [==============================] - 0s 39ms/step\n",
      "1/1 [==============================] - 0s 38ms/step\n",
      "1/1 [==============================] - 0s 39ms/step\n",
      "1/1 [==============================] - 0s 40ms/step\n",
      "1/1 [==============================] - 0s 39ms/step\n",
      "1/1 [==============================] - 0s 41ms/step\n"
     ]
    },
    {
     "data": {
      "text/plain": [
       "[0.33402624846914436,\n",
       " 0.43684275283856516,\n",
       " 0.159515057262758,\n",
       " 0.22805098862428852,\n",
       " 0.47382434400613477,\n",
       " 0.2976961162220601,\n",
       " 0.4468262297577832,\n",
       " 0.4712513135122438,\n",
       " 0.03458128400108661,\n",
       " 0.3743983516671815,\n",
       " 0.3978984547547002,\n",
       " 0.16578259659631245,\n",
       " 0.44721421017624513,\n",
       " -0.017200315587250783,\n",
       " 0.5137009203637347,\n",
       " 0.22086447394089861,\n",
       " -0.11366718482966436,\n",
       " 0.0744433842380785,\n",
       " 0.20400588503612396,\n",
       " -0.1373116028271647]"
      ]
     },
     "execution_count": 45,
     "metadata": {},
     "output_type": "execute_result"
    }
   ],
   "source": [
    "eval_res_f_fn = eval.evaluate_batch(images_eval_f, images_hat_eval_f, model_name='Facenet512')\n",
    "images_hat_eval_arr_f_labeled_fn = zip(images_hat_eval_arr_f, eval_res_f_fn)\n",
    "images_hat_eval_pil_f_fn = toPIL(torchvision.utils.make_grid([toTensor(image_add_label(pil, str(round(label, 3)), 40).resize((256, 256))) for pil, label in images_hat_eval_arr_f_labeled_fn], nrow=1)).convert(\"RGB\")\n",
    "images_hat_eval_pil_f_fn.save(output_path + \"/images_eval_hat_f_fn.png\")\n",
    "eval_res_f_fn\n",
    "\n",
    "eval_res_m_fn = eval.evaluate_batch(images_eval_m, images_hat_eval_m, model_name='Facenet512')\n",
    "images_hat_eval_arr_m_labeled_fn = zip(images_hat_eval_arr_m, eval_res_m_fn)\n",
    "images_hat_eval_pil_m_fn = toPIL(torchvision.utils.make_grid([toTensor(image_add_label(pil, str(round(label, 3)), 40).resize((256, 256))) for pil, label in images_hat_eval_arr_m_labeled_fn], nrow=1)).convert(\"RGB\")\n",
    "images_hat_eval_pil_m_fn.save(output_path + \"/images_eval_hat_m_fn.png\")\n",
    "eval_res_m_fn\n"
   ]
  },
  {
   "cell_type": "code",
   "execution_count": 44,
   "metadata": {},
   "outputs": [
    {
     "name": "stdout",
     "output_type": "stream",
     "text": [
      "1/1 [==============================] - 0s 75ms/step\n",
      "1/1 [==============================] - 0s 73ms/step\n",
      "1/1 [==============================] - 0s 71ms/step\n",
      "1/1 [==============================] - 0s 71ms/step\n",
      "1/1 [==============================] - 0s 69ms/step\n",
      "1/1 [==============================] - 0s 70ms/step\n",
      "1/1 [==============================] - 0s 72ms/step\n",
      "1/1 [==============================] - 0s 71ms/step\n",
      "1/1 [==============================] - 0s 69ms/step\n",
      "1/1 [==============================] - 0s 69ms/step\n",
      "1/1 [==============================] - 0s 74ms/step\n",
      "1/1 [==============================] - 0s 69ms/step\n",
      "1/1 [==============================] - 0s 69ms/step\n",
      "1/1 [==============================] - 0s 69ms/step\n",
      "1/1 [==============================] - 0s 69ms/step\n",
      "1/1 [==============================] - 0s 73ms/step\n",
      "1/1 [==============================] - 0s 72ms/step\n",
      "1/1 [==============================] - 0s 67ms/step\n",
      "1/1 [==============================] - 0s 70ms/step\n",
      "1/1 [==============================] - 0s 69ms/step\n",
      "1/1 [==============================] - 0s 68ms/step\n",
      "1/1 [==============================] - 0s 72ms/step\n",
      "1/1 [==============================] - 0s 72ms/step\n",
      "1/1 [==============================] - 0s 69ms/step\n",
      "1/1 [==============================] - 0s 73ms/step\n",
      "1/1 [==============================] - 0s 74ms/step\n",
      "1/1 [==============================] - 0s 76ms/step\n",
      "1/1 [==============================] - 0s 68ms/step\n",
      "1/1 [==============================] - 0s 72ms/step\n",
      "1/1 [==============================] - 0s 69ms/step\n",
      "1/1 [==============================] - 0s 73ms/step\n",
      "1/1 [==============================] - 0s 69ms/step\n",
      "1/1 [==============================] - 0s 70ms/step\n",
      "1/1 [==============================] - 0s 71ms/step\n",
      "1/1 [==============================] - 0s 69ms/step\n",
      "1/1 [==============================] - 0s 71ms/step\n",
      "1/1 [==============================] - 0s 68ms/step\n",
      "1/1 [==============================] - 0s 67ms/step\n",
      "1/1 [==============================] - 0s 70ms/step\n",
      "1/1 [==============================] - 0s 67ms/step\n"
     ]
    },
    {
     "data": {
      "text/plain": [
       "[0.10377961691985067,\n",
       " 0.943256346206428,\n",
       " -0.008764100807423717,\n",
       " 0.21682055050580815,\n",
       " 0.26986823526496284,\n",
       " 0.1969762862823228,\n",
       " 0.019916973462405136,\n",
       " 0.358388616413088,\n",
       " 0.0038190441572530888,\n",
       " 0.3309051924515633,\n",
       " 0.1511933387718012,\n",
       " 0.03959055423529361,\n",
       " 0.5192292305804449,\n",
       " 0.025049313347839344,\n",
       " 0.5997104295188008,\n",
       " 0.10366729960530924,\n",
       " 0.03381036896741243,\n",
       " 0.05439476054490021,\n",
       " 0.023167767168489554,\n",
       " 0.07833462406799792]"
      ]
     },
     "execution_count": 44,
     "metadata": {},
     "output_type": "execute_result"
    }
   ],
   "source": [
    "eval_res_f_af = eval.evaluate_batch(images_eval_f, images_hat_eval_f, model_name='ArcFace')\n",
    "images_hat_eval_arr_f_labeled_af = zip(images_hat_eval_arr_f, eval_res_f_af)\n",
    "images_hat_eval_pil_f_af = toPIL(torchvision.utils.make_grid([toTensor(image_add_label(pil, str(round(label, 3)), 40).resize((256, 256))) for pil, label in images_hat_eval_arr_f_labeled_af], nrow=1)).convert(\"RGB\")\n",
    "images_hat_eval_pil_f_af.save(output_path + \"/images_eval_hat_f_af.png\")\n",
    "eval_res_f_af\n",
    "\n",
    "eval_res_m_af = eval.evaluate_batch(images_eval_m, images_hat_eval_m, model_name='ArcFace')\n",
    "images_hat_eval_arr_m_labeled_af = zip(images_hat_eval_arr_m, eval_res_m_af)\n",
    "images_hat_eval_pil_m_af = toPIL(torchvision.utils.make_grid([toTensor(image_add_label(pil, str(round(label, 3)), 40).resize((256, 256))) for pil, label in images_hat_eval_arr_m_labeled_af], nrow=1)).convert(\"RGB\")\n",
    "images_hat_eval_pil_m_af.save(output_path + \"/images_eval_hat_m_af.png\")\n",
    "eval_res_m_af\n"
   ]
  },
  {
   "cell_type": "code",
   "execution_count": 43,
   "metadata": {},
   "outputs": [
    {
     "name": "stdout",
     "output_type": "stream",
     "text": [
      "1/1 [==============================] - 0s 192ms/step\n",
      "1/1 [==============================] - 0s 171ms/step\n",
      "1/1 [==============================] - 0s 169ms/step\n",
      "1/1 [==============================] - 0s 169ms/step\n",
      "1/1 [==============================] - 0s 173ms/step\n",
      "1/1 [==============================] - 0s 169ms/step\n",
      "1/1 [==============================] - 0s 171ms/step\n",
      "1/1 [==============================] - 0s 171ms/step\n",
      "1/1 [==============================] - 0s 170ms/step\n",
      "1/1 [==============================] - 0s 170ms/step\n",
      "1/1 [==============================] - 0s 170ms/step\n",
      "1/1 [==============================] - 0s 168ms/step\n",
      "1/1 [==============================] - 0s 172ms/step\n",
      "1/1 [==============================] - 0s 172ms/step\n",
      "1/1 [==============================] - 0s 167ms/step\n",
      "1/1 [==============================] - 0s 169ms/step\n",
      "1/1 [==============================] - 0s 174ms/step\n",
      "1/1 [==============================] - 0s 171ms/step\n",
      "1/1 [==============================] - 0s 168ms/step\n",
      "1/1 [==============================] - 0s 172ms/step\n",
      "1/1 [==============================] - 0s 172ms/step\n",
      "1/1 [==============================] - 0s 175ms/step\n",
      "1/1 [==============================] - 0s 170ms/step\n",
      "1/1 [==============================] - 0s 172ms/step\n",
      "1/1 [==============================] - 0s 170ms/step\n",
      "1/1 [==============================] - 0s 169ms/step\n",
      "1/1 [==============================] - 0s 168ms/step\n",
      "1/1 [==============================] - 0s 170ms/step\n",
      "1/1 [==============================] - 0s 175ms/step\n",
      "1/1 [==============================] - 0s 167ms/step\n",
      "1/1 [==============================] - 0s 167ms/step\n",
      "1/1 [==============================] - 0s 170ms/step\n",
      "1/1 [==============================] - 0s 169ms/step\n",
      "1/1 [==============================] - 0s 180ms/step\n",
      "1/1 [==============================] - 0s 169ms/step\n",
      "1/1 [==============================] - 0s 175ms/step\n",
      "1/1 [==============================] - 0s 168ms/step\n",
      "1/1 [==============================] - 0s 171ms/step\n",
      "1/1 [==============================] - 0s 171ms/step\n",
      "1/1 [==============================] - 0s 174ms/step\n"
     ]
    },
    {
     "data": {
      "text/plain": [
       "[0.464754694541439,\n",
       " 0.8274239937676159,\n",
       " 0.34938368077529997,\n",
       " 0.576459335828597,\n",
       " 0.5537390224322192,\n",
       " 0.2699485708488388,\n",
       " 0.46675176195489104,\n",
       " 0.6830751306542533,\n",
       " 0.046867572628578304,\n",
       " 0.7086720534966884,\n",
       " 0.4166164836708298,\n",
       " 0.5513433182114134,\n",
       " 0.6468025871821815,\n",
       " 0.2652512330690248,\n",
       " 0.6530968067392857,\n",
       " 0.6092680018630461,\n",
       " 0.12331453282012529,\n",
       " 0.25539691219079025,\n",
       " 0.3061176826490259,\n",
       " 0.10899034316594093]"
      ]
     },
     "execution_count": 43,
     "metadata": {},
     "output_type": "execute_result"
    }
   ],
   "source": [
    "eval_res_vgg = eval.evaluate_batch(images_eval_f, images_hat_eval_f, model_name='VGG-Face')\n",
    "images_hat_eval_arr_f_labeled_vgg = zip(images_hat_eval_arr_f, eval_res_vgg)\n",
    "images_hat_eval_pil_f_vgg = toPIL(torchvision.utils.make_grid([toTensor(image_add_label(pil, str(round(label, 3)), 40).resize((256, 256))) for pil, label in images_hat_eval_arr_f_labeled_vgg], nrow=1)).convert(\"RGB\")\n",
    "images_hat_eval_pil_f_vgg.save(output_path + \"/images_eval_hat_f_vgg.png\")\n",
    "eval_res_vgg\n",
    "\n",
    "eval_res_vgg = eval.evaluate_batch(images_eval_m, images_hat_eval_m, model_name='VGG-Face')\n",
    "images_hat_eval_arr_m_labeled_vgg = zip(images_hat_eval_arr_m, eval_res_vgg)\n",
    "images_hat_eval_pil_m_vgg = toPIL(torchvision.utils.make_grid([toTensor(image_add_label(pil, str(round(label, 3)), 40).resize((256, 256))) for pil, label in images_hat_eval_arr_m_labeled_vgg], nrow=1)).convert(\"RGB\")\n",
    "images_hat_eval_pil_m_vgg.save(output_path + \"/images_eval_hat_m_vgg.png\")\n",
    "eval_res_vgg\n"
   ]
  }
 ],
 "metadata": {
  "kernelspec": {
   "display_name": "diploma_env",
   "language": "python",
   "name": "python3"
  },
  "language_info": {
   "codemirror_mode": {
    "name": "ipython",
    "version": 3
   },
   "file_extension": ".py",
   "mimetype": "text/x-python",
   "name": "python",
   "nbconvert_exporter": "python",
   "pygments_lexer": "ipython3",
   "version": "3.9.7 | packaged by conda-forge | (default, Sep 29 2021, 19:23:11) \n[GCC 9.4.0]"
  },
  "metadata": {
   "interpreter": {
    "hash": "2ca3a44b8209f7ad007e433b11a4146eceddfdad5cdb64f89eb05e06944554d2"
   }
  },
  "orig_nbformat": 2,
  "vscode": {
   "interpreter": {
    "hash": "8ae8182413a490e74c485c6066c38d265f51d185ee72220d452c2dc1c0a8dbde"
   }
  }
 },
 "nbformat": 4,
 "nbformat_minor": 2
}
