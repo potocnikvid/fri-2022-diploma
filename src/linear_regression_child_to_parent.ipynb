{
 "cells": [
  {
   "attachments": {},
   "cell_type": "markdown",
   "metadata": {},
   "source": [
    "# Child to Parents mappings in StyleGAN2 latent space using the Ridge Regression"
   ]
  },
  {
   "cell_type": "code",
   "execution_count": 1,
   "metadata": {},
   "outputs": [
    {
     "name": "stderr",
     "output_type": "stream",
     "text": [
      "/home/vidp/miniconda3/envs/diploma_env/lib/python3.9/site-packages/tqdm/auto.py:22: TqdmWarning: IProgress not found. Please update jupyter and ipywidgets. See https://ipywidgets.readthedocs.io/en/stable/user_install.html\n",
      "  from .autonotebook import tqdm as notebook_tqdm\n",
      "/home/vidp/miniconda3/envs/diploma_env/lib/python3.9/site-packages/torchvision/io/image.py:13: UserWarning: Failed to load image Python extension: /home/vidp/miniconda3/envs/diploma_env/lib/python3.9/site-packages/torchvision/image.so: undefined symbol: _ZN2at4_ops19empty_memory_format4callEN3c108ArrayRefIlEENS2_8optionalINS2_10ScalarTypeEEENS5_INS2_6LayoutEEENS5_INS2_6DeviceEEENS5_IbEENS5_INS2_12MemoryFormatEEE\n",
      "  warn(f\"Failed to load image Python extension: {e}\")\n"
     ]
    }
   ],
   "source": [
    "from dataset.nok_mean import NokMeanDataset\n",
    "from dataset.nok_mean_real import NokMeanRealDataset\n",
    "from dataset.nok import NokDataset\n",
    "from dataset.nok_aug import NokAugDataset\n",
    "from utils.stylegan import StyleGAN2\n",
    "from utils.eval import BaseEvaluator\n",
    "from utils.viz import image_add_label\n",
    "import utils.nokdb as nokdb\n",
    "import os\n",
    "import shutil\n",
    "import sys\n",
    "import numpy as np\n",
    "import torch, torchvision\n",
    "from PIL import Image\n",
    "from glob import glob\n",
    "from sklearn.linear_model import LinearRegression, Ridge\n",
    "from sklearn.metrics import mean_squared_error\n",
    "root = os.getenv('ROOT')\n",
    "\n"
   ]
  },
  {
   "attachments": {},
   "cell_type": "markdown",
   "metadata": {},
   "source": [
    "# In[1]:\n",
    "Create a ooutput directory for the results"
   ]
  },
  {
   "cell_type": "code",
   "execution_count": 2,
   "metadata": {},
   "outputs": [
    {
     "data": {
      "text/plain": [
       "'./src/.tmp/stylegan2-ada-pytorch/child_to_parent048'"
      ]
     },
     "execution_count": 2,
     "metadata": {},
     "output_type": "execute_result"
    }
   ],
   "source": [
    "name = \"child_to_parent\"\n",
    "output_path = \"./src/.tmp/stylegan2-ada-pytorch/\" + name + \"001\"\n",
    "while (os.path.exists(output_path)):\n",
    "  output_path = output_path[:-3] + str(int(output_path[-3:]) + 1).zfill(3)\n",
    "\n",
    "os.mkdir(output_path)\n",
    "output_path"
   ]
  },
  {
   "attachments": {},
   "cell_type": "markdown",
   "metadata": {},
   "source": [
    "# In[2]:\n",
    "Align faces in ppldb dataset if not already done and save the aligned images in a new directory "
   ]
  },
  {
   "cell_type": "code",
   "execution_count": 3,
   "metadata": {},
   "outputs": [],
   "source": [
    "# python src/utils/align_faces_parallel.py --root_path ./src/dataset/ppldb/vid/\n",
    "for person in glob(f\"./src/dataset/ppldb/*\"):\n",
    "    if not os.path.exists(f\"{person}/aligned\"):\n",
    "        os.system(f\"python src/utils/align_faces_parallel.py --root_path {person}\")\n"
   ]
  },
  {
   "attachments": {},
   "cell_type": "markdown",
   "metadata": {},
   "source": [
    "# In[3]:\n",
    "Project the aligned images into the latent space of StyleGAN2 and save the latent vectors in a new directory"
   ]
  },
  {
   "cell_type": "code",
   "execution_count": 10,
   "metadata": {},
   "outputs": [
    {
     "name": "stdout",
     "output_type": "stream",
     "text": [
      "./src/submodules/stylegan2-ada-pytorch/\n",
      "./src/.tmp/stylegan2-ada-pytorch/child_to_parent035\n",
      "Got StyleGAN2 docker client, building image...\n",
      "StyleGAN2 Docker image built.\n",
      "[INFO] StyleGAN2 - Projecting image...\n",
      "Loading networks from \"https://nvlabs-fi-cdn.nvidia.com/stylegan2-ada-pytorch/pretrained/ffhq.pkl\"...\n",
      "\n"
     ]
    },
    {
     "ename": "KeyboardInterrupt",
     "evalue": "",
     "output_type": "error",
     "traceback": [
      "\u001b[0;31m---------------------------------------------------------------------------\u001b[0m",
      "\u001b[0;31mKeyboardInterrupt\u001b[0m                         Traceback (most recent call last)",
      "Cell \u001b[0;32mIn[10], line 5\u001b[0m\n\u001b[1;32m      3\u001b[0m \u001b[39mfor\u001b[39;00m person \u001b[39min\u001b[39;00m glob(\u001b[39mf\u001b[39m\u001b[39m\"\u001b[39m\u001b[39m./src/dataset/ppldb/*\u001b[39m\u001b[39m\"\u001b[39m):\n\u001b[1;32m      4\u001b[0m   \u001b[39mif\u001b[39;00m os\u001b[39m.\u001b[39mpath\u001b[39m.\u001b[39misdir(person):\n\u001b[0;32m----> 5\u001b[0m     people\u001b[39m.\u001b[39mappend(stylegan\u001b[39m.\u001b[39;49mproject_person(person))\n\u001b[1;32m      7\u001b[0m \u001b[39mprint\u001b[39m(people)\n",
      "File \u001b[0;32m~/Documents/fri-2022-diploma/src/utils/stylegan.py:38\u001b[0m, in \u001b[0;36mStyleGAN2.project_person\u001b[0;34m(self, target_folder)\u001b[0m\n\u001b[1;32m     36\u001b[0m     img_name \u001b[39m=\u001b[39m img\u001b[39m.\u001b[39msplit(\u001b[39m\"\u001b[39m\u001b[39m/\u001b[39m\u001b[39m\"\u001b[39m)[\u001b[39m-\u001b[39m\u001b[39m1\u001b[39m]\u001b[39m.\u001b[39msplit(\u001b[39m\"\u001b[39m\u001b[39m.\u001b[39m\u001b[39m\"\u001b[39m)[\u001b[39m0\u001b[39m]\n\u001b[1;32m     37\u001b[0m     outdir \u001b[39m=\u001b[39m \u001b[39mf\u001b[39m\u001b[39m\"\u001b[39m\u001b[39m{\u001b[39;00mtarget_folder\u001b[39m}\u001b[39;00m\u001b[39m/latents_\u001b[39m\u001b[39m{\u001b[39;00mimg_name\u001b[39m}\u001b[39;00m\u001b[39m\"\u001b[39m\n\u001b[0;32m---> 38\u001b[0m     \u001b[39mself\u001b[39;49m\u001b[39m.\u001b[39;49m_project_from_command([\u001b[39mf\u001b[39;49m\u001b[39m\"\u001b[39;49m\u001b[39m--target=\u001b[39;49m\u001b[39m{\u001b[39;49;00mimg\u001b[39m}\u001b[39;49;00m\u001b[39m\"\u001b[39;49m, \u001b[39mf\u001b[39;49m\u001b[39m\"\u001b[39;49m\u001b[39m--outdir=\u001b[39;49m\u001b[39m{\u001b[39;49;00moutdir\u001b[39m}\u001b[39;49;00m\u001b[39m\"\u001b[39;49m, \u001b[39m\"\u001b[39;49m\u001b[39m--save-video=True\u001b[39;49m\u001b[39m\"\u001b[39;49m])\n\u001b[1;32m     39\u001b[0m     result\u001b[39m.\u001b[39mappend(np\u001b[39m.\u001b[39mload(\u001b[39mf\u001b[39m\u001b[39m\"\u001b[39m\u001b[39m{\u001b[39;00moutdir\u001b[39m}\u001b[39;00m\u001b[39m/projected_w.npz\u001b[39m\u001b[39m\"\u001b[39m)[\u001b[39m\"\u001b[39m\u001b[39mw\u001b[39m\u001b[39m\"\u001b[39m])\n\u001b[1;32m     40\u001b[0m \u001b[39mreturn\u001b[39;00m result\n",
      "File \u001b[0;32m~/Documents/fri-2022-diploma/src/utils/stylegan.py:97\u001b[0m, in \u001b[0;36mStyleGAN2._project_from_command\u001b[0;34m(self, command)\u001b[0m\n\u001b[1;32m     95\u001b[0m \u001b[39mdef\u001b[39;00m \u001b[39m_project_from_command\u001b[39m(\u001b[39mself\u001b[39m, command):\n\u001b[1;32m     96\u001b[0m     \u001b[39mif\u001b[39;00m \u001b[39mself\u001b[39m\u001b[39m.\u001b[39mverbose: \u001b[39mprint\u001b[39m(\u001b[39m\"\u001b[39m\u001b[39m[INFO] StyleGAN2 - Projecting image...\u001b[39m\u001b[39m\"\u001b[39m)\n\u001b[0;32m---> 97\u001b[0m     \u001b[39mreturn\u001b[39;00m \u001b[39mself\u001b[39;49m\u001b[39m.\u001b[39;49m_run_command([\n\u001b[1;32m     98\u001b[0m         \u001b[39m\"\u001b[39;49m\u001b[39mpython3\u001b[39;49m\u001b[39m\"\u001b[39;49m,\n\u001b[1;32m     99\u001b[0m         \u001b[39mf\u001b[39;49m\u001b[39m\"\u001b[39;49m\u001b[39m{\u001b[39;49;00m\u001b[39mself\u001b[39;49m\u001b[39m.\u001b[39;49mroot_path\u001b[39m}\u001b[39;49;00m\u001b[39m/projector.py\u001b[39;49m\u001b[39m\"\u001b[39;49m,\n\u001b[1;32m    100\u001b[0m         \u001b[39m\"\u001b[39;49m\u001b[39m--network=https://nvlabs-fi-cdn.nvidia.com/stylegan2-ada-pytorch/pretrained/ffhq.pkl\u001b[39;49m\u001b[39m\"\u001b[39;49m\n\u001b[1;32m    101\u001b[0m     ] \u001b[39m+\u001b[39;49m command)\n",
      "File \u001b[0;32m~/Documents/fri-2022-diploma/src/utils/stylegan.py:78\u001b[0m, in \u001b[0;36mStyleGAN2._run_command\u001b[0;34m(self, command)\u001b[0m\n\u001b[1;32m     61\u001b[0m container \u001b[39m=\u001b[39m \u001b[39mself\u001b[39m\u001b[39m.\u001b[39mclient\u001b[39m.\u001b[39mcontainers\u001b[39m.\u001b[39mrun(\n\u001b[1;32m     62\u001b[0m     image\u001b[39m=\u001b[39m\u001b[39mself\u001b[39m\u001b[39m.\u001b[39mimage_tag,\n\u001b[1;32m     63\u001b[0m     auto_remove\u001b[39m=\u001b[39m\u001b[39mTrue\u001b[39;00m,\n\u001b[0;32m   (...)\u001b[0m\n\u001b[1;32m     74\u001b[0m     ]\n\u001b[1;32m     75\u001b[0m )\n\u001b[1;32m     77\u001b[0m \u001b[39mif\u001b[39;00m \u001b[39mself\u001b[39m\u001b[39m.\u001b[39mverbose:\n\u001b[0;32m---> 78\u001b[0m     \u001b[39mfor\u001b[39;00m log \u001b[39min\u001b[39;00m container\u001b[39m.\u001b[39mlogs(follow\u001b[39m=\u001b[39m\u001b[39mTrue\u001b[39;00m, stream\u001b[39m=\u001b[39m\u001b[39mTrue\u001b[39;00m):\n\u001b[1;32m     79\u001b[0m         \u001b[39mprint\u001b[39m(\u001b[39mstr\u001b[39m(log, \u001b[39m\"\u001b[39m\u001b[39mutf-8\u001b[39m\u001b[39m\"\u001b[39m))\n\u001b[1;32m     81\u001b[0m result \u001b[39m=\u001b[39m container\u001b[39m.\u001b[39mwait()\n",
      "File \u001b[0;32m~/miniconda3/envs/diploma_env/lib/python3.9/site-packages/docker/types/daemon.py:32\u001b[0m, in \u001b[0;36mCancellableStream.__next__\u001b[0;34m(self)\u001b[0m\n\u001b[1;32m     30\u001b[0m \u001b[39mdef\u001b[39;00m \u001b[39m__next__\u001b[39m(\u001b[39mself\u001b[39m):\n\u001b[1;32m     31\u001b[0m     \u001b[39mtry\u001b[39;00m:\n\u001b[0;32m---> 32\u001b[0m         \u001b[39mreturn\u001b[39;00m \u001b[39mnext\u001b[39;49m(\u001b[39mself\u001b[39;49m\u001b[39m.\u001b[39;49m_stream)\n\u001b[1;32m     33\u001b[0m     \u001b[39mexcept\u001b[39;00m urllib3\u001b[39m.\u001b[39mexceptions\u001b[39m.\u001b[39mProtocolError:\n\u001b[1;32m     34\u001b[0m         \u001b[39mraise\u001b[39;00m \u001b[39mStopIteration\u001b[39;00m\n",
      "File \u001b[0;32m~/miniconda3/envs/diploma_env/lib/python3.9/site-packages/docker/api/client.py:389\u001b[0m, in \u001b[0;36mAPIClient._multiplexed_response_stream_helper\u001b[0;34m(self, response)\u001b[0m\n\u001b[1;32m    386\u001b[0m \u001b[39mself\u001b[39m\u001b[39m.\u001b[39m_disable_socket_timeout(socket)\n\u001b[1;32m    388\u001b[0m \u001b[39mwhile\u001b[39;00m \u001b[39mTrue\u001b[39;00m:\n\u001b[0;32m--> 389\u001b[0m     header \u001b[39m=\u001b[39m response\u001b[39m.\u001b[39;49mraw\u001b[39m.\u001b[39;49mread(STREAM_HEADER_SIZE_BYTES)\n\u001b[1;32m    390\u001b[0m     \u001b[39mif\u001b[39;00m \u001b[39mnot\u001b[39;00m header:\n\u001b[1;32m    391\u001b[0m         \u001b[39mbreak\u001b[39;00m\n",
      "File \u001b[0;32m~/miniconda3/envs/diploma_env/lib/python3.9/site-packages/urllib3/response.py:567\u001b[0m, in \u001b[0;36mHTTPResponse.read\u001b[0;34m(self, amt, decode_content, cache_content)\u001b[0m\n\u001b[1;32m    564\u001b[0m fp_closed \u001b[39m=\u001b[39m \u001b[39mgetattr\u001b[39m(\u001b[39mself\u001b[39m\u001b[39m.\u001b[39m_fp, \u001b[39m\"\u001b[39m\u001b[39mclosed\u001b[39m\u001b[39m\"\u001b[39m, \u001b[39mFalse\u001b[39;00m)\n\u001b[1;32m    566\u001b[0m \u001b[39mwith\u001b[39;00m \u001b[39mself\u001b[39m\u001b[39m.\u001b[39m_error_catcher():\n\u001b[0;32m--> 567\u001b[0m     data \u001b[39m=\u001b[39m \u001b[39mself\u001b[39;49m\u001b[39m.\u001b[39;49m_fp_read(amt) \u001b[39mif\u001b[39;00m \u001b[39mnot\u001b[39;00m fp_closed \u001b[39melse\u001b[39;00m \u001b[39mb\u001b[39m\u001b[39m\"\u001b[39m\u001b[39m\"\u001b[39m\n\u001b[1;32m    568\u001b[0m     \u001b[39mif\u001b[39;00m amt \u001b[39mis\u001b[39;00m \u001b[39mNone\u001b[39;00m:\n\u001b[1;32m    569\u001b[0m         flush_decoder \u001b[39m=\u001b[39m \u001b[39mTrue\u001b[39;00m\n",
      "File \u001b[0;32m~/miniconda3/envs/diploma_env/lib/python3.9/site-packages/urllib3/response.py:533\u001b[0m, in \u001b[0;36mHTTPResponse._fp_read\u001b[0;34m(self, amt)\u001b[0m\n\u001b[1;32m    530\u001b[0m     \u001b[39mreturn\u001b[39;00m buffer\u001b[39m.\u001b[39mgetvalue()\n\u001b[1;32m    531\u001b[0m \u001b[39melse\u001b[39;00m:\n\u001b[1;32m    532\u001b[0m     \u001b[39m# StringIO doesn't like amt=None\u001b[39;00m\n\u001b[0;32m--> 533\u001b[0m     \u001b[39mreturn\u001b[39;00m \u001b[39mself\u001b[39;49m\u001b[39m.\u001b[39;49m_fp\u001b[39m.\u001b[39;49mread(amt) \u001b[39mif\u001b[39;00m amt \u001b[39mis\u001b[39;00m \u001b[39mnot\u001b[39;00m \u001b[39mNone\u001b[39;00m \u001b[39melse\u001b[39;00m \u001b[39mself\u001b[39m\u001b[39m.\u001b[39m_fp\u001b[39m.\u001b[39mread()\n",
      "File \u001b[0;32m~/miniconda3/envs/diploma_env/lib/python3.9/http/client.py:462\u001b[0m, in \u001b[0;36mHTTPResponse.read\u001b[0;34m(self, amt)\u001b[0m\n\u001b[1;32m    459\u001b[0m \u001b[39mif\u001b[39;00m amt \u001b[39mis\u001b[39;00m \u001b[39mnot\u001b[39;00m \u001b[39mNone\u001b[39;00m:\n\u001b[1;32m    460\u001b[0m     \u001b[39m# Amount is given, implement using readinto\u001b[39;00m\n\u001b[1;32m    461\u001b[0m     b \u001b[39m=\u001b[39m \u001b[39mbytearray\u001b[39m(amt)\n\u001b[0;32m--> 462\u001b[0m     n \u001b[39m=\u001b[39m \u001b[39mself\u001b[39;49m\u001b[39m.\u001b[39;49mreadinto(b)\n\u001b[1;32m    463\u001b[0m     \u001b[39mreturn\u001b[39;00m \u001b[39mmemoryview\u001b[39m(b)[:n]\u001b[39m.\u001b[39mtobytes()\n\u001b[1;32m    464\u001b[0m \u001b[39melse\u001b[39;00m:\n\u001b[1;32m    465\u001b[0m     \u001b[39m# Amount is not given (unbounded read) so we must check self.length\u001b[39;00m\n\u001b[1;32m    466\u001b[0m     \u001b[39m# and self.chunked\u001b[39;00m\n",
      "File \u001b[0;32m~/miniconda3/envs/diploma_env/lib/python3.9/http/client.py:496\u001b[0m, in \u001b[0;36mHTTPResponse.readinto\u001b[0;34m(self, b)\u001b[0m\n\u001b[1;32m    493\u001b[0m     \u001b[39mreturn\u001b[39;00m \u001b[39m0\u001b[39m\n\u001b[1;32m    495\u001b[0m \u001b[39mif\u001b[39;00m \u001b[39mself\u001b[39m\u001b[39m.\u001b[39mchunked:\n\u001b[0;32m--> 496\u001b[0m     \u001b[39mreturn\u001b[39;00m \u001b[39mself\u001b[39;49m\u001b[39m.\u001b[39;49m_readinto_chunked(b)\n\u001b[1;32m    498\u001b[0m \u001b[39mif\u001b[39;00m \u001b[39mself\u001b[39m\u001b[39m.\u001b[39mlength \u001b[39mis\u001b[39;00m \u001b[39mnot\u001b[39;00m \u001b[39mNone\u001b[39;00m:\n\u001b[1;32m    499\u001b[0m     \u001b[39mif\u001b[39;00m \u001b[39mlen\u001b[39m(b) \u001b[39m>\u001b[39m \u001b[39mself\u001b[39m\u001b[39m.\u001b[39mlength:\n\u001b[1;32m    500\u001b[0m         \u001b[39m# clip the read to the \"end of response\"\u001b[39;00m\n",
      "File \u001b[0;32m~/miniconda3/envs/diploma_env/lib/python3.9/http/client.py:591\u001b[0m, in \u001b[0;36mHTTPResponse._readinto_chunked\u001b[0;34m(self, b)\u001b[0m\n\u001b[1;32m    589\u001b[0m \u001b[39mtry\u001b[39;00m:\n\u001b[1;32m    590\u001b[0m     \u001b[39mwhile\u001b[39;00m \u001b[39mTrue\u001b[39;00m:\n\u001b[0;32m--> 591\u001b[0m         chunk_left \u001b[39m=\u001b[39m \u001b[39mself\u001b[39;49m\u001b[39m.\u001b[39;49m_get_chunk_left()\n\u001b[1;32m    592\u001b[0m         \u001b[39mif\u001b[39;00m chunk_left \u001b[39mis\u001b[39;00m \u001b[39mNone\u001b[39;00m:\n\u001b[1;32m    593\u001b[0m             \u001b[39mreturn\u001b[39;00m total_bytes\n",
      "File \u001b[0;32m~/miniconda3/envs/diploma_env/lib/python3.9/http/client.py:559\u001b[0m, in \u001b[0;36mHTTPResponse._get_chunk_left\u001b[0;34m(self)\u001b[0m\n\u001b[1;32m    557\u001b[0m     \u001b[39mself\u001b[39m\u001b[39m.\u001b[39m_safe_read(\u001b[39m2\u001b[39m)  \u001b[39m# toss the CRLF at the end of the chunk\u001b[39;00m\n\u001b[1;32m    558\u001b[0m \u001b[39mtry\u001b[39;00m:\n\u001b[0;32m--> 559\u001b[0m     chunk_left \u001b[39m=\u001b[39m \u001b[39mself\u001b[39;49m\u001b[39m.\u001b[39;49m_read_next_chunk_size()\n\u001b[1;32m    560\u001b[0m \u001b[39mexcept\u001b[39;00m \u001b[39mValueError\u001b[39;00m:\n\u001b[1;32m    561\u001b[0m     \u001b[39mraise\u001b[39;00m IncompleteRead(\u001b[39mb\u001b[39m\u001b[39m'\u001b[39m\u001b[39m'\u001b[39m)\n",
      "File \u001b[0;32m~/miniconda3/envs/diploma_env/lib/python3.9/http/client.py:519\u001b[0m, in \u001b[0;36mHTTPResponse._read_next_chunk_size\u001b[0;34m(self)\u001b[0m\n\u001b[1;32m    517\u001b[0m \u001b[39mdef\u001b[39;00m \u001b[39m_read_next_chunk_size\u001b[39m(\u001b[39mself\u001b[39m):\n\u001b[1;32m    518\u001b[0m     \u001b[39m# Read the next chunk size from the file\u001b[39;00m\n\u001b[0;32m--> 519\u001b[0m     line \u001b[39m=\u001b[39m \u001b[39mself\u001b[39;49m\u001b[39m.\u001b[39;49mfp\u001b[39m.\u001b[39;49mreadline(_MAXLINE \u001b[39m+\u001b[39;49m \u001b[39m1\u001b[39;49m)\n\u001b[1;32m    520\u001b[0m     \u001b[39mif\u001b[39;00m \u001b[39mlen\u001b[39m(line) \u001b[39m>\u001b[39m _MAXLINE:\n\u001b[1;32m    521\u001b[0m         \u001b[39mraise\u001b[39;00m LineTooLong(\u001b[39m\"\u001b[39m\u001b[39mchunk size\u001b[39m\u001b[39m\"\u001b[39m)\n",
      "File \u001b[0;32m~/miniconda3/envs/diploma_env/lib/python3.9/socket.py:704\u001b[0m, in \u001b[0;36mSocketIO.readinto\u001b[0;34m(self, b)\u001b[0m\n\u001b[1;32m    702\u001b[0m \u001b[39mwhile\u001b[39;00m \u001b[39mTrue\u001b[39;00m:\n\u001b[1;32m    703\u001b[0m     \u001b[39mtry\u001b[39;00m:\n\u001b[0;32m--> 704\u001b[0m         \u001b[39mreturn\u001b[39;00m \u001b[39mself\u001b[39;49m\u001b[39m.\u001b[39;49m_sock\u001b[39m.\u001b[39;49mrecv_into(b)\n\u001b[1;32m    705\u001b[0m     \u001b[39mexcept\u001b[39;00m timeout:\n\u001b[1;32m    706\u001b[0m         \u001b[39mself\u001b[39m\u001b[39m.\u001b[39m_timeout_occurred \u001b[39m=\u001b[39m \u001b[39mTrue\u001b[39;00m\n",
      "\u001b[0;31mKeyboardInterrupt\u001b[0m: "
     ]
    }
   ],
   "source": [
    "stylegan = StyleGAN2(tmp_path=output_path)\n",
    "people = []\n",
    "for person in glob(f\"./src/dataset/ppldb/*\"):\n",
    "  if os.path.isdir(person):\n",
    "    people.append(stylegan.project_person(person))\n",
    "\n",
    "print(people)"
   ]
  },
  {
   "attachments": {},
   "cell_type": "markdown",
   "metadata": {},
   "source": [
    "# In[4]:\n",
    "Migrate people from the ppldb dataset to nokdb dataset"
   ]
  },
  {
   "cell_type": "code",
   "execution_count": 4,
   "metadata": {},
   "outputs": [],
   "source": [
    "for person in glob(f\"./src/dataset/ppldb/*\"):\n",
    "    if os.path.exists(f\"{person}/latents\"):\n",
    "        pid = nokdb.max_nokdb_pid() + 1\n",
    "        pid\n",
    "        os.mkdir(f\"./src/dataset/nokdb/{pid}\")\n",
    "        # person = pid,name,family_name,sex,father_pid,mother_pid,race,sex_code,race_code\n",
    "        person_row = [pid, person.split(\"/\")[-1], \"\", \"\", \"\", \"\", \"\", \"\", \"\"]\n",
    "        nokdb.add_person(person_row)\n",
    "        for img in glob(f\"{person}/aligned/*\"):\n",
    "            img_name = img.split(\"/\")[-1].split(\".\")[0]\n",
    "            latent = f\"{person}/latents/latents_{img_name}/projected_w.npz\"\n",
    "            iid = nokdb.max_nokdb_iid() + 1\n",
    "            shutil.copy(img, f\"./src/dataset/nokdb/{pid}/{iid}.png\")\n",
    "            shutil.copy(latent, f\"./src/dataset/nokdb/{pid}/{iid}.npz\")\n",
    "            # image = iid,pid,age,emotion,emotion_code\n",
    "            image_row = [iid, pid, \"\", \"\", \"\"]\n",
    "            nokdb.add_image(image_row)\n",
    "            sample_row = [\"\", \"\", \"\", \"\", pid, iid]\n",
    "            nokdb.add_sample(sample_row)\n"
   ]
  },
  {
   "cell_type": "code",
   "execution_count": 11,
   "metadata": {},
   "outputs": [],
   "source": [
    "def load_data(split):\n",
    "    X = []\n",
    "    y = []\n",
    "    for father, mother, child, *_ in NokMeanDataset(split=split):\n",
    "        input = child.flatten(0)\n",
    "        output = torch.cat([father.flatten(0), mother.flatten(0)], dim=0)\n",
    "        X.append(input)\n",
    "        y.append(output)\n",
    "    X = torch.stack(X, dim=0)\n",
    "    y = torch.stack(y, dim=0)\n",
    "    return X, y"
   ]
  },
  {
   "cell_type": "code",
   "execution_count": 14,
   "metadata": {},
   "outputs": [],
   "source": [
    "def load_data_real(split):\n",
    "    X = []\n",
    "    for child in NokMeanRealDataset(split=split):\n",
    "        print(child[0])\n",
    "        input = child[0].flatten(0)\n",
    "        X.append(input)\n",
    "    X = torch.stack(X, dim=0)\n",
    "    return X"
   ]
  },
  {
   "cell_type": "code",
   "execution_count": 20,
   "metadata": {},
   "outputs": [
    {
     "name": "stdout",
     "output_type": "stream",
     "text": [
      "Loaded 433 persons with 2676 images.\n",
      "Average images per person: 6.180138568129331\n",
      "Max images per person: 37\n",
      "Min images per person: 1\n",
      "[13, 12, 6, 1, 4, 2, 6, 9, 8, 2, 4, 7, 1, 6, 3, 3, 5, 8, 12, 4, 3, 6, 20, 4, 10, 3, 7, 3, 1, 4, 5, 9, 5, 8, 2, 4, 4, 3, 3, 2, 11, 2, 7, 14, 8, 10, 2, 1, 2, 9, 11, 5, 1, 1, 5, 2, 5, 5, 8, 1, 1, 5, 5, 3, 1, 3, 7, 23, 14, 15, 16, 5, 4, 1, 3, 9, 5, 6, 5, 1, 2, 5, 16, 4, 2, 1, 5, 2, 6, 24, 5, 15, 3, 9, 13, 2, 5, 6, 9, 7, 4, 8, 4, 7, 5, 11, 4, 9, 7, 6, 6, 7, 8, 5, 7, 5, 18, 10, 6, 8, 1, 5, 5, 9, 14, 6, 6, 1, 11, 14, 2, 7, 1, 2, 4, 4, 17, 5, 1, 6, 6, 4, 2, 3, 4, 5, 1, 2, 4, 4, 9, 3, 6, 2, 3, 5, 8, 6, 7, 14, 6, 5, 18, 9, 5, 3, 13, 3, 12, 5, 14, 5, 5, 1, 5, 9, 2, 9, 2, 6, 10, 8, 10, 12, 9, 6, 19, 10, 7, 37, 9, 6, 1, 1, 4, 24, 7, 3, 3, 4, 6, 13, 5, 8, 4, 5, 4, 2, 24, 5, 19, 6, 5, 13, 5, 3, 7, 8, 11, 4, 12, 7, 8, 7, 14, 15, 6, 8, 4, 5, 3, 5, 6, 8, 11, 6, 2, 2, 10, 4, 4, 3, 1, 1, 1, 1, 2, 1, 2, 5, 1, 16, 9, 8, 4, 4, 1, 9, 3, 5, 7, 8, 3, 2, 6, 4, 1, 5, 2, 4, 5, 6, 4, 2, 5, 5, 2, 7, 11, 13, 10, 7, 2, 5, 2, 4, 2, 4, 4, 1, 3, 1, 4, 3, 4, 4, 4, 3, 2, 7, 2, 11, 5, 4, 3, 1, 5, 11, 8, 3, 1, 9, 4, 4, 5, 7, 9, 6, 4, 2, 4, 16, 7, 4, 7, 8, 8, 9, 9, 3, 6, 10, 2, 6, 3, 5, 7, 2, 12, 5, 7, 6, 7, 20, 4, 3, 2, 1, 1, 2, 6, 4, 2, 5, 5, 3, 4, 6, 2, 24, 10, 16, 1, 5, 1, 5, 15, 14, 5, 3, 1, 3, 5, 2, 3, 16, 2, 1, 4, 2, 2, 5, 4, 3, 5, 10, 11, 1, 2, 3, 3, 1, 3, 9, 5, 4, 6, 12, 16, 4, 2, 12, 3, 3, 5, 4, 1, 7, 17, 1, 4, 4, 8, 7, 6, 5, 13, 12, 3, 5, 6, 6, 12, 9, 10, 5, 8, 8, 10, 16, 15, 13, 7]\n",
      "Loaded 60 persons with 508 images.\n",
      "Average images per person: 8.466666666666667\n",
      "Max images per person: 15\n",
      "Min images per person: 2\n",
      "[7, 9, 12, 7, 6, 11, 8, 7, 6, 12, 10, 8, 10, 9, 11, 10, 5, 8, 4, 5, 5, 7, 15, 4, 13, 5, 2, 12, 4, 12, 7, 10, 8, 15, 11, 4, 5, 6, 5, 4, 10, 10, 10, 9, 12, 6, 11, 10, 13, 9, 8, 10, 5, 8, 9, 7, 14, 8, 5, 15]\n",
      "Loaded 3 persons with 24 images.\n",
      "Average images per person: 8.0\n",
      "Max images per person: 13\n",
      "Min images per person: 4\n",
      "[7, 13, 4]\n",
      "tensor([[[-0.2897, -3.0011,  0.9940,  ..., -0.9223,  0.0265, -0.3568],\n",
      "         [-0.2897, -3.0011,  0.9940,  ..., -0.9223,  0.0265, -0.3568],\n",
      "         [-0.2897, -3.0011,  0.9940,  ..., -0.9223,  0.0265, -0.3568],\n",
      "         ...,\n",
      "         [-0.2897, -3.0011,  0.9940,  ..., -0.9223,  0.0265, -0.3568],\n",
      "         [-0.2897, -3.0011,  0.9940,  ..., -0.9223,  0.0265, -0.3568],\n",
      "         [-0.2897, -3.0011,  0.9940,  ..., -0.9223,  0.0265, -0.3568]]])\n",
      "tensor([[[-0.4796,  1.3046,  1.0767,  ...,  0.0819,  0.7011,  0.5649],\n",
      "         [-0.4796,  1.3046,  1.0767,  ...,  0.0819,  0.7011,  0.5649],\n",
      "         [-0.4796,  1.3046,  1.0767,  ...,  0.0819,  0.7011,  0.5649],\n",
      "         ...,\n",
      "         [-0.4796,  1.3046,  1.0767,  ...,  0.0819,  0.7011,  0.5649],\n",
      "         [-0.4796,  1.3046,  1.0767,  ...,  0.0819,  0.7011,  0.5649],\n",
      "         [-0.4796,  1.3046,  1.0767,  ...,  0.0819,  0.7011,  0.5649]]])\n",
      "tensor([[[ 0.5627,  0.0484,  2.9864,  ..., -0.4122, -0.2051,  0.6802],\n",
      "         [ 0.5627,  0.0484,  2.9864,  ..., -0.4122, -0.2051,  0.6802],\n",
      "         [ 0.5627,  0.0484,  2.9864,  ..., -0.4122, -0.2051,  0.6802],\n",
      "         ...,\n",
      "         [ 0.5627,  0.0484,  2.9864,  ..., -0.4122, -0.2051,  0.6802],\n",
      "         [ 0.5627,  0.0484,  2.9864,  ..., -0.4122, -0.2051,  0.6802],\n",
      "         [ 0.5627,  0.0484,  2.9864,  ..., -0.4122, -0.2051,  0.6802]]])\n"
     ]
    }
   ],
   "source": [
    "X_train, y_train = load_data(split=\"train\")\n",
    "X_test, y_test = load_data(split=\"test\")\n",
    "X_real = load_data_real(split=\"real\")"
   ]
  },
  {
   "cell_type": "code",
   "execution_count": 23,
   "metadata": {},
   "outputs": [
    {
     "data": {
      "text/plain": [
       "(torch.Size([207, 9216]),\n",
       " torch.Size([207, 18432]),\n",
       " torch.Size([20, 9216]),\n",
       " torch.Size([20, 18432]),\n",
       " torch.Size([3, 9216]))"
      ]
     },
     "execution_count": 23,
     "metadata": {},
     "output_type": "execute_result"
    }
   ],
   "source": [
    "X_train.shape, y_train.shape, X_test.shape, y_test.shape, X_real.shape"
   ]
  },
  {
   "cell_type": "code",
   "execution_count": 24,
   "metadata": {},
   "outputs": [
    {
     "data": {
      "text/html": [
       "<style>#sk-container-id-2 {color: black;background-color: white;}#sk-container-id-2 pre{padding: 0;}#sk-container-id-2 div.sk-toggleable {background-color: white;}#sk-container-id-2 label.sk-toggleable__label {cursor: pointer;display: block;width: 100%;margin-bottom: 0;padding: 0.3em;box-sizing: border-box;text-align: center;}#sk-container-id-2 label.sk-toggleable__label-arrow:before {content: \"▸\";float: left;margin-right: 0.25em;color: #696969;}#sk-container-id-2 label.sk-toggleable__label-arrow:hover:before {color: black;}#sk-container-id-2 div.sk-estimator:hover label.sk-toggleable__label-arrow:before {color: black;}#sk-container-id-2 div.sk-toggleable__content {max-height: 0;max-width: 0;overflow: hidden;text-align: left;background-color: #f0f8ff;}#sk-container-id-2 div.sk-toggleable__content pre {margin: 0.2em;color: black;border-radius: 0.25em;background-color: #f0f8ff;}#sk-container-id-2 input.sk-toggleable__control:checked~div.sk-toggleable__content {max-height: 200px;max-width: 100%;overflow: auto;}#sk-container-id-2 input.sk-toggleable__control:checked~label.sk-toggleable__label-arrow:before {content: \"▾\";}#sk-container-id-2 div.sk-estimator input.sk-toggleable__control:checked~label.sk-toggleable__label {background-color: #d4ebff;}#sk-container-id-2 div.sk-label input.sk-toggleable__control:checked~label.sk-toggleable__label {background-color: #d4ebff;}#sk-container-id-2 input.sk-hidden--visually {border: 0;clip: rect(1px 1px 1px 1px);clip: rect(1px, 1px, 1px, 1px);height: 1px;margin: -1px;overflow: hidden;padding: 0;position: absolute;width: 1px;}#sk-container-id-2 div.sk-estimator {font-family: monospace;background-color: #f0f8ff;border: 1px dotted black;border-radius: 0.25em;box-sizing: border-box;margin-bottom: 0.5em;}#sk-container-id-2 div.sk-estimator:hover {background-color: #d4ebff;}#sk-container-id-2 div.sk-parallel-item::after {content: \"\";width: 100%;border-bottom: 1px solid gray;flex-grow: 1;}#sk-container-id-2 div.sk-label:hover label.sk-toggleable__label {background-color: #d4ebff;}#sk-container-id-2 div.sk-serial::before {content: \"\";position: absolute;border-left: 1px solid gray;box-sizing: border-box;top: 0;bottom: 0;left: 50%;z-index: 0;}#sk-container-id-2 div.sk-serial {display: flex;flex-direction: column;align-items: center;background-color: white;padding-right: 0.2em;padding-left: 0.2em;position: relative;}#sk-container-id-2 div.sk-item {position: relative;z-index: 1;}#sk-container-id-2 div.sk-parallel {display: flex;align-items: stretch;justify-content: center;background-color: white;position: relative;}#sk-container-id-2 div.sk-item::before, #sk-container-id-2 div.sk-parallel-item::before {content: \"\";position: absolute;border-left: 1px solid gray;box-sizing: border-box;top: 0;bottom: 0;left: 50%;z-index: -1;}#sk-container-id-2 div.sk-parallel-item {display: flex;flex-direction: column;z-index: 1;position: relative;background-color: white;}#sk-container-id-2 div.sk-parallel-item:first-child::after {align-self: flex-end;width: 50%;}#sk-container-id-2 div.sk-parallel-item:last-child::after {align-self: flex-start;width: 50%;}#sk-container-id-2 div.sk-parallel-item:only-child::after {width: 0;}#sk-container-id-2 div.sk-dashed-wrapped {border: 1px dashed gray;margin: 0 0.4em 0.5em 0.4em;box-sizing: border-box;padding-bottom: 0.4em;background-color: white;}#sk-container-id-2 div.sk-label label {font-family: monospace;font-weight: bold;display: inline-block;line-height: 1.2em;}#sk-container-id-2 div.sk-label-container {text-align: center;}#sk-container-id-2 div.sk-container {/* jupyter's `normalize.less` sets `[hidden] { display: none; }` but bootstrap.min.css set `[hidden] { display: none !important; }` so we also need the `!important` here to be able to override the default hidden behavior on the sphinx rendered scikit-learn.org. See: https://github.com/scikit-learn/scikit-learn/issues/21755 */display: inline-block !important;position: relative;}#sk-container-id-2 div.sk-text-repr-fallback {display: none;}</style><div id=\"sk-container-id-2\" class=\"sk-top-container\"><div class=\"sk-text-repr-fallback\"><pre>Ridge()</pre><b>In a Jupyter environment, please rerun this cell to show the HTML representation or trust the notebook. <br />On GitHub, the HTML representation is unable to render, please try loading this page with nbviewer.org.</b></div><div class=\"sk-container\" hidden><div class=\"sk-item\"><div class=\"sk-estimator sk-toggleable\"><input class=\"sk-toggleable__control sk-hidden--visually\" id=\"sk-estimator-id-2\" type=\"checkbox\" checked><label for=\"sk-estimator-id-2\" class=\"sk-toggleable__label sk-toggleable__label-arrow\">Ridge</label><div class=\"sk-toggleable__content\"><pre>Ridge()</pre></div></div></div></div></div>"
      ],
      "text/plain": [
       "Ridge()"
      ]
     },
     "execution_count": 24,
     "metadata": {},
     "output_type": "execute_result"
    }
   ],
   "source": [
    "regressor = Ridge()\n",
    "regressor.fit(X_train, y_train)"
   ]
  },
  {
   "cell_type": "code",
   "execution_count": 27,
   "metadata": {},
   "outputs": [
    {
     "data": {
      "text/plain": [
       "(array([[-1.26190375e+00,  1.74879961e+00, -3.20254945e-01, ...,\n",
       "         -6.79779734e-01,  2.31499641e-01,  2.50138213e-01],\n",
       "        [-1.28690236e-01, -6.92713091e-01,  2.20155607e-02, ...,\n",
       "         -9.35918596e-01, -4.33072033e-01, -1.24392574e-01],\n",
       "        [ 9.30546944e-01,  1.06024714e+00,  1.10451361e+00, ...,\n",
       "         -8.80755055e-01,  1.44034903e-03,  3.07381018e-01],\n",
       "        ...,\n",
       "        [-3.95641814e-01, -3.83039171e-01,  1.28569897e-01, ...,\n",
       "         -6.12853036e-01, -4.60052297e-01, -2.11176730e-01],\n",
       "        [-2.53464931e-01, -8.02925866e-01,  1.51595021e+00, ...,\n",
       "          7.64996898e-02, -3.79286246e-01,  1.19212463e+00],\n",
       "        [ 3.30839508e-01,  6.18738526e-01,  1.40753507e+00, ...,\n",
       "         -3.52136868e-01, -7.66062544e-01, -1.55873831e-01]]),\n",
       " array([[ 2.21054664, -1.12524167,  4.31105401, ..., -0.58991875,\n",
       "          1.0025328 , -0.23436988],\n",
       "        [ 1.26649482,  0.47215895,  0.43623346, ..., -0.37988698,\n",
       "         -1.04890067,  0.44719571],\n",
       "        [ 1.00121866,  0.18458446, -1.99676268, ..., -1.44582303,\n",
       "          0.30952494, -0.5192428 ]]))"
      ]
     },
     "execution_count": 27,
     "metadata": {},
     "output_type": "execute_result"
    }
   ],
   "source": [
    "y_train_hat = regressor.predict(X_train)\n",
    "y_test_hat = regressor.predict(X_test)\n",
    "y_real_hat = regressor.predict(X_real)\n",
    "y_test_hat, y_real_hat"
   ]
  },
  {
   "cell_type": "code",
   "execution_count": 28,
   "metadata": {},
   "outputs": [],
   "source": [
    "mse_train = mean_squared_error(y_train, y_train_hat)\n",
    "mse_test = mean_squared_error(y_test, y_test_hat)"
   ]
  },
  {
   "cell_type": "code",
   "execution_count": 29,
   "metadata": {},
   "outputs": [
    {
     "data": {
      "text/plain": [
       "(0.006931318833174911, 1.0244137867456073)"
      ]
     },
     "execution_count": 29,
     "metadata": {},
     "output_type": "execute_result"
    }
   ],
   "source": [
    "mse_train, mse_test"
   ]
  },
  {
   "cell_type": "code",
   "execution_count": 33,
   "metadata": {},
   "outputs": [],
   "source": [
    "images = []\n",
    "for i in range(y_real_hat.shape[0]):\n",
    "    images.append(X_real[i].view(18, 512))\n",
    "    images.append(torch.from_numpy(y_real_hat[i,:18*512]).to(torch.float32).view(18, 512))\n",
    "    images.append(torch.from_numpy(y_real_hat[i,18*512:]).to(torch.float32).view(18, 512))\n",
    "images = torch.stack(images, dim=0)"
   ]
  },
  {
   "cell_type": "code",
   "execution_count": 11,
   "metadata": {},
   "outputs": [],
   "source": [
    "images = []\n",
    "for i in range(y_test.shape[0]):\n",
    "    images.append(X_test[i].view(18, 512))\n",
    "    images.append(y_test[i,:18*512].view(18, 512))\n",
    "    images.append(y_test[i,18*512:].view(18, 512))\n",
    "    images.append(torch.from_numpy(y_test_hat[i,:18*512]).to(torch.float32).view(18, 512))\n",
    "    images.append(torch.from_numpy(y_test_hat[i,18*512:]).to(torch.float32).view(18, 512))\n",
    "images = torch.stack(images, dim=0)"
   ]
  },
  {
   "attachments": {},
   "cell_type": "markdown",
   "metadata": {},
   "source": [
    "## Visualize and evaluate results"
   ]
  },
  {
   "cell_type": "code",
   "execution_count": 34,
   "metadata": {},
   "outputs": [
    {
     "name": "stdout",
     "output_type": "stream",
     "text": [
      "./src/submodules/stylegan2-ada-pytorch/\n",
      "./src/.tmp/stylegan2-ada-pytorch/child_to_parent048\n",
      "Got StyleGAN2 docker client, building image...\n",
      "StyleGAN2 Docker image built.\n"
     ]
    }
   ],
   "source": [
    "toTensor = torchvision.transforms.PILToTensor()\n",
    "toPIL = torchvision.transforms.ToPILImage()\n",
    "eval = BaseEvaluator()\n",
    "stylegan = StyleGAN2(tmp_path=output_path)"
   ]
  },
  {
   "cell_type": "code",
   "execution_count": 35,
   "metadata": {},
   "outputs": [
    {
     "name": "stdout",
     "output_type": "stream",
     "text": [
      "Generating 9 images from array...\n",
      "[INFO] StyleGAN2 - Generating image...\n",
      "Loading networks from \"https://nvlabs-fi-cdn.nvidia.com/stylegan2-ada-pytorch/pretrained/ffhq.pkl\"...\n",
      "\n",
      "Generating images from projected W \"./src/.tmp/stylegan2-ada-pytorch/child_to_parent048/projected_w.npz\"\n",
      "\n",
      "Setting up PyTorch plugin \"bias_act_plugin\"... Done.\n",
      "\n",
      "Setting up PyTorch plugin \"upfirdn2d_plugin\"... Done.\n",
      "\n"
     ]
    }
   ],
   "source": [
    "pils = stylegan.generate_from_array(images.detach().cpu().numpy())\n",
    "pil = toPIL(torchvision.utils.make_grid([toTensor(pil.resize((128,128))) for pil in pils], nrow=3)).convert(\"RGB\")\n",
    "pil.save(output_path + \"/result.png\")"
   ]
  },
  {
   "cell_type": "code",
   "execution_count": 13,
   "metadata": {},
   "outputs": [
    {
     "name": "stdout",
     "output_type": "stream",
     "text": [
      "Generating 100 images from array...\n",
      "[INFO] StyleGAN2 - Generating image...\n",
      "Loading networks from \"https://nvlabs-fi-cdn.nvidia.com/stylegan2-ada-pytorch/pretrained/ffhq.pkl\"...\n",
      "\n",
      "Generating images from projected W \"./.tmp/stylegan2-ada-pytorch/child_to_parent020/projected_w.npz\"\n",
      "\n",
      "Setting up PyTorch plugin \"bias_act_plugin\"... Done.\n",
      "\n",
      "Setting up PyTorch plugin \"upfirdn2d_plugin\"... Done.\n",
      "\n"
     ]
    },
    {
     "ename": "KeyboardInterrupt",
     "evalue": "",
     "output_type": "error",
     "traceback": [
      "\u001b[0;31m---------------------------------------------------------------------------\u001b[0m",
      "\u001b[0;31mKeyboardInterrupt\u001b[0m                         Traceback (most recent call last)",
      "Cell \u001b[0;32mIn[13], line 1\u001b[0m\n\u001b[0;32m----> 1\u001b[0m pils \u001b[39m=\u001b[39m stylegan\u001b[39m.\u001b[39;49mgenerate_from_array(images\u001b[39m.\u001b[39;49mdetach()\u001b[39m.\u001b[39;49mcpu()\u001b[39m.\u001b[39;49mnumpy())\n\u001b[1;32m      2\u001b[0m pil \u001b[39m=\u001b[39m toPIL(torchvision\u001b[39m.\u001b[39mutils\u001b[39m.\u001b[39mmake_grid([toTensor(pil\u001b[39m.\u001b[39mresize((\u001b[39m128\u001b[39m,\u001b[39m128\u001b[39m))) \u001b[39mfor\u001b[39;00m pil \u001b[39min\u001b[39;00m pils], nrow\u001b[39m=\u001b[39m\u001b[39m5\u001b[39m))\u001b[39m.\u001b[39mconvert(\u001b[39m\"\u001b[39m\u001b[39mRGB\u001b[39m\u001b[39m\"\u001b[39m)\n\u001b[1;32m      3\u001b[0m pil\u001b[39m.\u001b[39msave(output_path \u001b[39m+\u001b[39m \u001b[39m\"\u001b[39m\u001b[39m/result.png\u001b[39m\u001b[39m\"\u001b[39m)\n",
      "File \u001b[0;32m~/Documents/fri-2022-diploma/src/utils/stylegan.py:50\u001b[0m, in \u001b[0;36mStyleGAN2.generate_from_array\u001b[0;34m(self, array)\u001b[0m\n\u001b[1;32m     48\u001b[0m os\u001b[39m.\u001b[39mmakedirs(\u001b[39mself\u001b[39m\u001b[39m.\u001b[39mtmp_path, exist_ok\u001b[39m=\u001b[39m\u001b[39mTrue\u001b[39;00m)\n\u001b[1;32m     49\u001b[0m np\u001b[39m.\u001b[39msavez(\u001b[39mf\u001b[39m\u001b[39m'\u001b[39m\u001b[39m{\u001b[39;00m\u001b[39mself\u001b[39m\u001b[39m.\u001b[39mtmp_path\u001b[39m}\u001b[39;00m\u001b[39m/projected_w.npz\u001b[39m\u001b[39m'\u001b[39m, w\u001b[39m=\u001b[39marray)\n\u001b[0;32m---> 50\u001b[0m \u001b[39mreturn\u001b[39;00m \u001b[39mself\u001b[39;49m\u001b[39m.\u001b[39;49m_generate_from_file(\u001b[39mf\u001b[39;49m\u001b[39m'\u001b[39;49m\u001b[39m{\u001b[39;49;00m\u001b[39mself\u001b[39;49m\u001b[39m.\u001b[39;49mtmp_path\u001b[39m}\u001b[39;49;00m\u001b[39m/projected_w.npz\u001b[39;49m\u001b[39m'\u001b[39;49m, array\u001b[39m.\u001b[39;49mshape[\u001b[39m0\u001b[39;49m])\n",
      "File \u001b[0;32m~/Documents/fri-2022-diploma/src/utils/stylegan.py:53\u001b[0m, in \u001b[0;36mStyleGAN2._generate_from_file\u001b[0;34m(self, file, n)\u001b[0m\n\u001b[1;32m     52\u001b[0m \u001b[39mdef\u001b[39;00m \u001b[39m_generate_from_file\u001b[39m(\u001b[39mself\u001b[39m, file: \u001b[39mstr\u001b[39m, n: \u001b[39mint\u001b[39m):\n\u001b[0;32m---> 53\u001b[0m     \u001b[39mself\u001b[39;49m\u001b[39m.\u001b[39;49m_generate_from_command([\u001b[39mf\u001b[39;49m\u001b[39m\"\u001b[39;49m\u001b[39m--projected-w=\u001b[39;49m\u001b[39m{\u001b[39;49;00mfile\u001b[39m}\u001b[39;49;00m\u001b[39m\"\u001b[39;49m])\n\u001b[1;32m     54\u001b[0m     \u001b[39mreturn\u001b[39;00m [Image\u001b[39m.\u001b[39mopen(\u001b[39mf\u001b[39m\u001b[39m\"\u001b[39m\u001b[39m{\u001b[39;00m\u001b[39mself\u001b[39m\u001b[39m.\u001b[39mtmp_path\u001b[39m}\u001b[39;00m\u001b[39m/proj\u001b[39m\u001b[39m{\u001b[39;00midx\u001b[39m:\u001b[39;00m\u001b[39m02d\u001b[39m\u001b[39m}\u001b[39;00m\u001b[39m.png\u001b[39m\u001b[39m\"\u001b[39m)\u001b[39m.\u001b[39mconvert(\u001b[39m'\u001b[39m\u001b[39mRGB\u001b[39m\u001b[39m'\u001b[39m) \u001b[39mfor\u001b[39;00m idx \u001b[39min\u001b[39;00m \u001b[39mrange\u001b[39m(n)]\n",
      "File \u001b[0;32m~/Documents/fri-2022-diploma/src/utils/stylegan.py:87\u001b[0m, in \u001b[0;36mStyleGAN2._generate_from_command\u001b[0;34m(self, command)\u001b[0m\n\u001b[1;32m     85\u001b[0m \u001b[39mdef\u001b[39;00m \u001b[39m_generate_from_command\u001b[39m(\u001b[39mself\u001b[39m, command):\n\u001b[1;32m     86\u001b[0m     \u001b[39mif\u001b[39;00m \u001b[39mself\u001b[39m\u001b[39m.\u001b[39mverbose: \u001b[39mprint\u001b[39m(\u001b[39m\"\u001b[39m\u001b[39m[INFO] StyleGAN2 - Generating image...\u001b[39m\u001b[39m\"\u001b[39m)\n\u001b[0;32m---> 87\u001b[0m     \u001b[39mreturn\u001b[39;00m \u001b[39mself\u001b[39;49m\u001b[39m.\u001b[39;49m_run_command([\n\u001b[1;32m     88\u001b[0m         \u001b[39m\"\u001b[39;49m\u001b[39mpython3\u001b[39;49m\u001b[39m\"\u001b[39;49m,\n\u001b[1;32m     89\u001b[0m         \u001b[39mf\u001b[39;49m\u001b[39m\"\u001b[39;49m\u001b[39m{\u001b[39;49;00m\u001b[39mself\u001b[39;49m\u001b[39m.\u001b[39;49mroot_path\u001b[39m}\u001b[39;49;00m\u001b[39m/generate.py\u001b[39;49m\u001b[39m\"\u001b[39;49m,\n\u001b[1;32m     90\u001b[0m         \u001b[39m\"\u001b[39;49m\u001b[39m--network=https://nvlabs-fi-cdn.nvidia.com/stylegan2-ada-pytorch/pretrained/ffhq.pkl\u001b[39;49m\u001b[39m\"\u001b[39;49m,\n\u001b[1;32m     91\u001b[0m         \u001b[39mf\u001b[39;49m\u001b[39m\"\u001b[39;49m\u001b[39m--outdir=\u001b[39;49m\u001b[39m{\u001b[39;49;00m\u001b[39mself\u001b[39;49m\u001b[39m.\u001b[39;49mtmp_path\u001b[39m}\u001b[39;49;00m\u001b[39m\"\u001b[39;49m,\n\u001b[1;32m     92\u001b[0m         \u001b[39m\"\u001b[39;49m\u001b[39m--noise-mode=random\u001b[39;49m\u001b[39m\"\u001b[39;49m\n\u001b[1;32m     93\u001b[0m     ] \u001b[39m+\u001b[39;49m command)\n",
      "File \u001b[0;32m~/Documents/fri-2022-diploma/src/utils/stylegan.py:78\u001b[0m, in \u001b[0;36mStyleGAN2._run_command\u001b[0;34m(self, command)\u001b[0m\n\u001b[1;32m     61\u001b[0m container \u001b[39m=\u001b[39m \u001b[39mself\u001b[39m\u001b[39m.\u001b[39mclient\u001b[39m.\u001b[39mcontainers\u001b[39m.\u001b[39mrun(\n\u001b[1;32m     62\u001b[0m     image\u001b[39m=\u001b[39m\u001b[39mself\u001b[39m\u001b[39m.\u001b[39mimage_tag,\n\u001b[1;32m     63\u001b[0m     auto_remove\u001b[39m=\u001b[39m\u001b[39mTrue\u001b[39;00m,\n\u001b[0;32m   (...)\u001b[0m\n\u001b[1;32m     74\u001b[0m     ]\n\u001b[1;32m     75\u001b[0m )\n\u001b[1;32m     77\u001b[0m \u001b[39mif\u001b[39;00m \u001b[39mself\u001b[39m\u001b[39m.\u001b[39mverbose:\n\u001b[0;32m---> 78\u001b[0m     \u001b[39mfor\u001b[39;00m log \u001b[39min\u001b[39;00m container\u001b[39m.\u001b[39mlogs(follow\u001b[39m=\u001b[39m\u001b[39mTrue\u001b[39;00m, stream\u001b[39m=\u001b[39m\u001b[39mTrue\u001b[39;00m):\n\u001b[1;32m     79\u001b[0m         \u001b[39mprint\u001b[39m(\u001b[39mstr\u001b[39m(log, \u001b[39m\"\u001b[39m\u001b[39mutf-8\u001b[39m\u001b[39m\"\u001b[39m))\n\u001b[1;32m     81\u001b[0m result \u001b[39m=\u001b[39m container\u001b[39m.\u001b[39mwait()\n",
      "File \u001b[0;32m~/miniconda3/envs/diploma_env/lib/python3.9/site-packages/docker/types/daemon.py:32\u001b[0m, in \u001b[0;36mCancellableStream.__next__\u001b[0;34m(self)\u001b[0m\n\u001b[1;32m     30\u001b[0m \u001b[39mdef\u001b[39;00m \u001b[39m__next__\u001b[39m(\u001b[39mself\u001b[39m):\n\u001b[1;32m     31\u001b[0m     \u001b[39mtry\u001b[39;00m:\n\u001b[0;32m---> 32\u001b[0m         \u001b[39mreturn\u001b[39;00m \u001b[39mnext\u001b[39;49m(\u001b[39mself\u001b[39;49m\u001b[39m.\u001b[39;49m_stream)\n\u001b[1;32m     33\u001b[0m     \u001b[39mexcept\u001b[39;00m urllib3\u001b[39m.\u001b[39mexceptions\u001b[39m.\u001b[39mProtocolError:\n\u001b[1;32m     34\u001b[0m         \u001b[39mraise\u001b[39;00m \u001b[39mStopIteration\u001b[39;00m\n",
      "File \u001b[0;32m~/miniconda3/envs/diploma_env/lib/python3.9/site-packages/docker/api/client.py:389\u001b[0m, in \u001b[0;36mAPIClient._multiplexed_response_stream_helper\u001b[0;34m(self, response)\u001b[0m\n\u001b[1;32m    386\u001b[0m \u001b[39mself\u001b[39m\u001b[39m.\u001b[39m_disable_socket_timeout(socket)\n\u001b[1;32m    388\u001b[0m \u001b[39mwhile\u001b[39;00m \u001b[39mTrue\u001b[39;00m:\n\u001b[0;32m--> 389\u001b[0m     header \u001b[39m=\u001b[39m response\u001b[39m.\u001b[39;49mraw\u001b[39m.\u001b[39;49mread(STREAM_HEADER_SIZE_BYTES)\n\u001b[1;32m    390\u001b[0m     \u001b[39mif\u001b[39;00m \u001b[39mnot\u001b[39;00m header:\n\u001b[1;32m    391\u001b[0m         \u001b[39mbreak\u001b[39;00m\n",
      "File \u001b[0;32m~/miniconda3/envs/diploma_env/lib/python3.9/site-packages/urllib3/response.py:567\u001b[0m, in \u001b[0;36mHTTPResponse.read\u001b[0;34m(self, amt, decode_content, cache_content)\u001b[0m\n\u001b[1;32m    564\u001b[0m fp_closed \u001b[39m=\u001b[39m \u001b[39mgetattr\u001b[39m(\u001b[39mself\u001b[39m\u001b[39m.\u001b[39m_fp, \u001b[39m\"\u001b[39m\u001b[39mclosed\u001b[39m\u001b[39m\"\u001b[39m, \u001b[39mFalse\u001b[39;00m)\n\u001b[1;32m    566\u001b[0m \u001b[39mwith\u001b[39;00m \u001b[39mself\u001b[39m\u001b[39m.\u001b[39m_error_catcher():\n\u001b[0;32m--> 567\u001b[0m     data \u001b[39m=\u001b[39m \u001b[39mself\u001b[39;49m\u001b[39m.\u001b[39;49m_fp_read(amt) \u001b[39mif\u001b[39;00m \u001b[39mnot\u001b[39;00m fp_closed \u001b[39melse\u001b[39;00m \u001b[39mb\u001b[39m\u001b[39m\"\u001b[39m\u001b[39m\"\u001b[39m\n\u001b[1;32m    568\u001b[0m     \u001b[39mif\u001b[39;00m amt \u001b[39mis\u001b[39;00m \u001b[39mNone\u001b[39;00m:\n\u001b[1;32m    569\u001b[0m         flush_decoder \u001b[39m=\u001b[39m \u001b[39mTrue\u001b[39;00m\n",
      "File \u001b[0;32m~/miniconda3/envs/diploma_env/lib/python3.9/site-packages/urllib3/response.py:533\u001b[0m, in \u001b[0;36mHTTPResponse._fp_read\u001b[0;34m(self, amt)\u001b[0m\n\u001b[1;32m    530\u001b[0m     \u001b[39mreturn\u001b[39;00m buffer\u001b[39m.\u001b[39mgetvalue()\n\u001b[1;32m    531\u001b[0m \u001b[39melse\u001b[39;00m:\n\u001b[1;32m    532\u001b[0m     \u001b[39m# StringIO doesn't like amt=None\u001b[39;00m\n\u001b[0;32m--> 533\u001b[0m     \u001b[39mreturn\u001b[39;00m \u001b[39mself\u001b[39;49m\u001b[39m.\u001b[39;49m_fp\u001b[39m.\u001b[39;49mread(amt) \u001b[39mif\u001b[39;00m amt \u001b[39mis\u001b[39;00m \u001b[39mnot\u001b[39;00m \u001b[39mNone\u001b[39;00m \u001b[39melse\u001b[39;00m \u001b[39mself\u001b[39m\u001b[39m.\u001b[39m_fp\u001b[39m.\u001b[39mread()\n",
      "File \u001b[0;32m~/miniconda3/envs/diploma_env/lib/python3.9/http/client.py:462\u001b[0m, in \u001b[0;36mHTTPResponse.read\u001b[0;34m(self, amt)\u001b[0m\n\u001b[1;32m    459\u001b[0m \u001b[39mif\u001b[39;00m amt \u001b[39mis\u001b[39;00m \u001b[39mnot\u001b[39;00m \u001b[39mNone\u001b[39;00m:\n\u001b[1;32m    460\u001b[0m     \u001b[39m# Amount is given, implement using readinto\u001b[39;00m\n\u001b[1;32m    461\u001b[0m     b \u001b[39m=\u001b[39m \u001b[39mbytearray\u001b[39m(amt)\n\u001b[0;32m--> 462\u001b[0m     n \u001b[39m=\u001b[39m \u001b[39mself\u001b[39;49m\u001b[39m.\u001b[39;49mreadinto(b)\n\u001b[1;32m    463\u001b[0m     \u001b[39mreturn\u001b[39;00m \u001b[39mmemoryview\u001b[39m(b)[:n]\u001b[39m.\u001b[39mtobytes()\n\u001b[1;32m    464\u001b[0m \u001b[39melse\u001b[39;00m:\n\u001b[1;32m    465\u001b[0m     \u001b[39m# Amount is not given (unbounded read) so we must check self.length\u001b[39;00m\n\u001b[1;32m    466\u001b[0m     \u001b[39m# and self.chunked\u001b[39;00m\n",
      "File \u001b[0;32m~/miniconda3/envs/diploma_env/lib/python3.9/http/client.py:496\u001b[0m, in \u001b[0;36mHTTPResponse.readinto\u001b[0;34m(self, b)\u001b[0m\n\u001b[1;32m    493\u001b[0m     \u001b[39mreturn\u001b[39;00m \u001b[39m0\u001b[39m\n\u001b[1;32m    495\u001b[0m \u001b[39mif\u001b[39;00m \u001b[39mself\u001b[39m\u001b[39m.\u001b[39mchunked:\n\u001b[0;32m--> 496\u001b[0m     \u001b[39mreturn\u001b[39;00m \u001b[39mself\u001b[39;49m\u001b[39m.\u001b[39;49m_readinto_chunked(b)\n\u001b[1;32m    498\u001b[0m \u001b[39mif\u001b[39;00m \u001b[39mself\u001b[39m\u001b[39m.\u001b[39mlength \u001b[39mis\u001b[39;00m \u001b[39mnot\u001b[39;00m \u001b[39mNone\u001b[39;00m:\n\u001b[1;32m    499\u001b[0m     \u001b[39mif\u001b[39;00m \u001b[39mlen\u001b[39m(b) \u001b[39m>\u001b[39m \u001b[39mself\u001b[39m\u001b[39m.\u001b[39mlength:\n\u001b[1;32m    500\u001b[0m         \u001b[39m# clip the read to the \"end of response\"\u001b[39;00m\n",
      "File \u001b[0;32m~/miniconda3/envs/diploma_env/lib/python3.9/http/client.py:591\u001b[0m, in \u001b[0;36mHTTPResponse._readinto_chunked\u001b[0;34m(self, b)\u001b[0m\n\u001b[1;32m    589\u001b[0m \u001b[39mtry\u001b[39;00m:\n\u001b[1;32m    590\u001b[0m     \u001b[39mwhile\u001b[39;00m \u001b[39mTrue\u001b[39;00m:\n\u001b[0;32m--> 591\u001b[0m         chunk_left \u001b[39m=\u001b[39m \u001b[39mself\u001b[39;49m\u001b[39m.\u001b[39;49m_get_chunk_left()\n\u001b[1;32m    592\u001b[0m         \u001b[39mif\u001b[39;00m chunk_left \u001b[39mis\u001b[39;00m \u001b[39mNone\u001b[39;00m:\n\u001b[1;32m    593\u001b[0m             \u001b[39mreturn\u001b[39;00m total_bytes\n",
      "File \u001b[0;32m~/miniconda3/envs/diploma_env/lib/python3.9/http/client.py:559\u001b[0m, in \u001b[0;36mHTTPResponse._get_chunk_left\u001b[0;34m(self)\u001b[0m\n\u001b[1;32m    557\u001b[0m     \u001b[39mself\u001b[39m\u001b[39m.\u001b[39m_safe_read(\u001b[39m2\u001b[39m)  \u001b[39m# toss the CRLF at the end of the chunk\u001b[39;00m\n\u001b[1;32m    558\u001b[0m \u001b[39mtry\u001b[39;00m:\n\u001b[0;32m--> 559\u001b[0m     chunk_left \u001b[39m=\u001b[39m \u001b[39mself\u001b[39;49m\u001b[39m.\u001b[39;49m_read_next_chunk_size()\n\u001b[1;32m    560\u001b[0m \u001b[39mexcept\u001b[39;00m \u001b[39mValueError\u001b[39;00m:\n\u001b[1;32m    561\u001b[0m     \u001b[39mraise\u001b[39;00m IncompleteRead(\u001b[39mb\u001b[39m\u001b[39m'\u001b[39m\u001b[39m'\u001b[39m)\n",
      "File \u001b[0;32m~/miniconda3/envs/diploma_env/lib/python3.9/http/client.py:519\u001b[0m, in \u001b[0;36mHTTPResponse._read_next_chunk_size\u001b[0;34m(self)\u001b[0m\n\u001b[1;32m    517\u001b[0m \u001b[39mdef\u001b[39;00m \u001b[39m_read_next_chunk_size\u001b[39m(\u001b[39mself\u001b[39m):\n\u001b[1;32m    518\u001b[0m     \u001b[39m# Read the next chunk size from the file\u001b[39;00m\n\u001b[0;32m--> 519\u001b[0m     line \u001b[39m=\u001b[39m \u001b[39mself\u001b[39;49m\u001b[39m.\u001b[39;49mfp\u001b[39m.\u001b[39;49mreadline(_MAXLINE \u001b[39m+\u001b[39;49m \u001b[39m1\u001b[39;49m)\n\u001b[1;32m    520\u001b[0m     \u001b[39mif\u001b[39;00m \u001b[39mlen\u001b[39m(line) \u001b[39m>\u001b[39m _MAXLINE:\n\u001b[1;32m    521\u001b[0m         \u001b[39mraise\u001b[39;00m LineTooLong(\u001b[39m\"\u001b[39m\u001b[39mchunk size\u001b[39m\u001b[39m\"\u001b[39m)\n",
      "File \u001b[0;32m~/miniconda3/envs/diploma_env/lib/python3.9/socket.py:704\u001b[0m, in \u001b[0;36mSocketIO.readinto\u001b[0;34m(self, b)\u001b[0m\n\u001b[1;32m    702\u001b[0m \u001b[39mwhile\u001b[39;00m \u001b[39mTrue\u001b[39;00m:\n\u001b[1;32m    703\u001b[0m     \u001b[39mtry\u001b[39;00m:\n\u001b[0;32m--> 704\u001b[0m         \u001b[39mreturn\u001b[39;00m \u001b[39mself\u001b[39;49m\u001b[39m.\u001b[39;49m_sock\u001b[39m.\u001b[39;49mrecv_into(b)\n\u001b[1;32m    705\u001b[0m     \u001b[39mexcept\u001b[39;00m timeout:\n\u001b[1;32m    706\u001b[0m         \u001b[39mself\u001b[39m\u001b[39m.\u001b[39m_timeout_occurred \u001b[39m=\u001b[39m \u001b[39mTrue\u001b[39;00m\n",
      "\u001b[0;31mKeyboardInterrupt\u001b[0m: "
     ]
    }
   ],
   "source": [
    "pils = stylegan.generate_from_array(images.detach().cpu().numpy())\n",
    "pil = toPIL(torchvision.utils.make_grid([toTensor(pil.resize((128,128))) for pil in pils], nrow=5)).convert(\"RGB\")\n",
    "pil.save(output_path + \"/result.png\")"
   ]
  },
  {
   "cell_type": "code",
   "execution_count": null,
   "metadata": {},
   "outputs": [],
   "source": [
    "pils_reshaped = np.array([np.array(pil).reshape(1024, 1024, 3) for pil in pils])\n",
    "pils_reshaped = pils_reshaped.reshape(-1, 5, 1024, 1024, 3)\n",
    "images_eval_f = pils_reshaped[:, 1]\n",
    "images_eval_m = pils_reshaped[:, 2]\n",
    "images_hat_eval_f = pils_reshaped[:, 3]\n",
    "images_hat_eval_m = pils_reshaped[:, 4]"
   ]
  },
  {
   "cell_type": "code",
   "execution_count": null,
   "metadata": {},
   "outputs": [],
   "source": [
    "images_eval_arr_f = [Image.fromarray(i).convert(\"RGB\") for i in images_eval_f]\n",
    "images_eval_arr_m = [Image.fromarray(i).convert(\"RGB\") for i in images_eval_m]\n",
    "images_hat_eval_arr_f = [Image.fromarray(i).convert(\"RGB\") for i in images_hat_eval_f]\n",
    "images_hat_eval_arr_m = [Image.fromarray(i).convert(\"RGB\") for i in images_hat_eval_m]"
   ]
  },
  {
   "cell_type": "code",
   "execution_count": null,
   "metadata": {},
   "outputs": [],
   "source": [
    "images_eval_pil_f = toPIL(torchvision.utils.make_grid([toTensor(pil.resize((128, 128))) for pil in images_eval_arr_f], nrow=1)).convert(\"RGB\")\n",
    "images_eval_pil_f.save(output_path + \"/images_eval_f.png\")\n",
    "\n",
    "images_eval_pil_m = toPIL(torchvision.utils.make_grid([toTensor(pil.resize((128, 128))) for pil in images_eval_arr_m], nrow=1)).convert(\"RGB\")\n",
    "images_eval_pil_m.save(output_path + \"/images_eval_m.png\")"
   ]
  },
  {
   "cell_type": "code",
   "execution_count": null,
   "metadata": {},
   "outputs": [],
   "source": [
    "eval_res_f_fn = eval.evaluate_batch(images_eval_f, images_hat_eval_f, model_name='Facenet512')\n",
    "images_hat_eval_arr_f_labeled_fn = zip(images_hat_eval_arr_f, eval_res_f_fn)\n",
    "images_hat_eval_pil_f_fn = toPIL(torchvision.utils.make_grid([toTensor(image_add_label(pil, str(round(label, 3)), 40).resize((256, 256))) for pil, label in images_hat_eval_arr_f_labeled_fn], nrow=1)).convert(\"RGB\")\n",
    "images_hat_eval_pil_f_fn.save(output_path + \"/images_eval_hat_f_fn.png\")\n",
    "eval_res_f_fn\n",
    "\n",
    "eval_res_m_fn = eval.evaluate_batch(images_eval_m, images_hat_eval_m, model_name='Facenet512')\n",
    "images_hat_eval_arr_m_labeled_fn = zip(images_hat_eval_arr_m, eval_res_m_fn)\n",
    "images_hat_eval_pil_m_fn = toPIL(torchvision.utils.make_grid([toTensor(image_add_label(pil, str(round(label, 3)), 40).resize((256, 256))) for pil, label in images_hat_eval_arr_m_labeled_fn], nrow=1)).convert(\"RGB\")\n",
    "images_hat_eval_pil_m_fn.save(output_path + \"/images_eval_hat_m_fn.png\")\n",
    "eval_res_m_fn\n"
   ]
  },
  {
   "cell_type": "code",
   "execution_count": null,
   "metadata": {},
   "outputs": [],
   "source": [
    "eval_res_f_af = eval.evaluate_batch(images_eval_f, images_hat_eval_f, model_name='ArcFace')\n",
    "images_hat_eval_arr_f_labeled_af = zip(images_hat_eval_arr_f, eval_res_f_af)\n",
    "images_hat_eval_pil_f_af = toPIL(torchvision.utils.make_grid([toTensor(image_add_label(pil, str(round(label, 3)), 40).resize((256, 256))) for pil, label in images_hat_eval_arr_f_labeled_af], nrow=1)).convert(\"RGB\")\n",
    "images_hat_eval_pil_f_af.save(output_path + \"/images_eval_hat_f_af.png\")\n",
    "eval_res_f_af\n",
    "\n",
    "eval_res_m_af = eval.evaluate_batch(images_eval_m, images_hat_eval_m, model_name='ArcFace')\n",
    "images_hat_eval_arr_m_labeled_af = zip(images_hat_eval_arr_m, eval_res_m_af)\n",
    "images_hat_eval_pil_m_af = toPIL(torchvision.utils.make_grid([toTensor(image_add_label(pil, str(round(label, 3)), 40).resize((256, 256))) for pil, label in images_hat_eval_arr_m_labeled_af], nrow=1)).convert(\"RGB\")\n",
    "images_hat_eval_pil_m_af.save(output_path + \"/images_eval_hat_m_af.png\")\n",
    "eval_res_m_af\n"
   ]
  },
  {
   "cell_type": "code",
   "execution_count": null,
   "metadata": {},
   "outputs": [],
   "source": [
    "eval_res_vgg = eval.evaluate_batch(images_eval_f, images_hat_eval_f, model_name='VGG-Face')\n",
    "images_hat_eval_arr_f_labeled_vgg = zip(images_hat_eval_arr_f, eval_res_vgg)\n",
    "images_hat_eval_pil_f_vgg = toPIL(torchvision.utils.make_grid([toTensor(image_add_label(pil, str(round(label, 3)), 40).resize((256, 256))) for pil, label in images_hat_eval_arr_f_labeled_vgg], nrow=1)).convert(\"RGB\")\n",
    "images_hat_eval_pil_f_vgg.save(output_path + \"/images_eval_hat_f_vgg.png\")\n",
    "eval_res_vgg\n",
    "\n",
    "eval_res_vgg = eval.evaluate_batch(images_eval_m, images_hat_eval_m, model_name='VGG-Face')\n",
    "images_hat_eval_arr_m_labeled_vgg = zip(images_hat_eval_arr_m, eval_res_vgg)\n",
    "images_hat_eval_pil_m_vgg = toPIL(torchvision.utils.make_grid([toTensor(image_add_label(pil, str(round(label, 3)), 40).resize((256, 256))) for pil, label in images_hat_eval_arr_m_labeled_vgg], nrow=1)).convert(\"RGB\")\n",
    "images_hat_eval_pil_m_vgg.save(output_path + \"/images_eval_hat_m_vgg.png\")\n",
    "eval_res_vgg\n"
   ]
  }
 ],
 "metadata": {
  "kernelspec": {
   "display_name": "diploma_env",
   "language": "python",
   "name": "python3"
  },
  "language_info": {
   "codemirror_mode": {
    "name": "ipython",
    "version": 3
   },
   "file_extension": ".py",
   "mimetype": "text/x-python",
   "name": "python",
   "nbconvert_exporter": "python",
   "pygments_lexer": "ipython3",
   "version": "3.9.7"
  },
  "metadata": {
   "interpreter": {
    "hash": "2ca3a44b8209f7ad007e433b11a4146eceddfdad5cdb64f89eb05e06944554d2"
   }
  },
  "orig_nbformat": 2,
  "vscode": {
   "interpreter": {
    "hash": "5784ea47edf0f92e3a1ee20b3bb0ffe69aee936c1e03cfab6dae269c9ccd7409"
   }
  }
 },
 "nbformat": 4,
 "nbformat_minor": 2
}
