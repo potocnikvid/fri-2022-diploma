{
 "cells": [
  {
   "cell_type": "code",
   "execution_count": 1,
   "metadata": {},
   "outputs": [],
   "source": [
    "import torch\n",
    "import numpy as np\n",
    "\n",
    "import os\n",
    "from glob import glob\n",
    "from pprint import pprint"
   ]
  },
  {
   "cell_type": "code",
   "execution_count": 2,
   "metadata": {},
   "outputs": [
    {
     "ename": "RuntimeError",
     "evalue": "stack expects a non-empty TensorList",
     "output_type": "error",
     "traceback": [
      "\u001b[0;31m---------------------------------------------------------------------------\u001b[0m",
      "\u001b[0;31mRuntimeError\u001b[0m                              Traceback (most recent call last)",
      "\u001b[0;32m<ipython-input-2-326c07d0023c>\u001b[0m in \u001b[0;36m<module>\u001b[0;34m\u001b[0m\n\u001b[1;32m     18\u001b[0m     \u001b[0mwithin_means\u001b[0m \u001b[0;34m+=\u001b[0m \u001b[0;34m[\u001b[0m\u001b[0mwithin_mean\u001b[0m\u001b[0;34m]\u001b[0m\u001b[0;34m\u001b[0m\u001b[0;34m\u001b[0m\u001b[0m\n\u001b[1;32m     19\u001b[0m \u001b[0;34m\u001b[0m\u001b[0m\n\u001b[0;32m---> 20\u001b[0;31m \u001b[0moverall_mean\u001b[0m \u001b[0;34m=\u001b[0m \u001b[0mtorch\u001b[0m\u001b[0;34m.\u001b[0m\u001b[0mmean\u001b[0m\u001b[0;34m(\u001b[0m\u001b[0mtorch\u001b[0m\u001b[0;34m.\u001b[0m\u001b[0mstack\u001b[0m\u001b[0;34m(\u001b[0m\u001b[0mwsa\u001b[0m\u001b[0;34m)\u001b[0m\u001b[0;34m,\u001b[0m \u001b[0mdim\u001b[0m\u001b[0;34m=\u001b[0m\u001b[0;36m0\u001b[0m\u001b[0;34m)\u001b[0m\u001b[0;34m\u001b[0m\u001b[0;34m\u001b[0m\u001b[0m\n\u001b[0m\u001b[1;32m     21\u001b[0m \u001b[0mwithin_means\u001b[0m \u001b[0;34m=\u001b[0m \u001b[0mtorch\u001b[0m\u001b[0;34m.\u001b[0m\u001b[0mstack\u001b[0m\u001b[0;34m(\u001b[0m\u001b[0mwithin_means\u001b[0m\u001b[0;34m)\u001b[0m\u001b[0;34m\u001b[0m\u001b[0;34m\u001b[0m\u001b[0m\n\u001b[1;32m     22\u001b[0m \u001b[0;34m\u001b[0m\u001b[0m\n",
      "\u001b[0;31mRuntimeError\u001b[0m: stack expects a non-empty TensorList"
     ]
    }
   ],
   "source": [
    "wsa = []\n",
    "within_means = []\n",
    "\n",
    "for pid_root in glob(\".cache/nokdb/*/\"):\n",
    "    pid = int(pid_root.split(\"/\")[-2])\n",
    "    ws = []\n",
    "    for npz in glob(f\"{pid_root}/*.npz\"):\n",
    "        w = np.load(npz)[\"w\"]\n",
    "        w = torch.from_numpy(w).squeeze().flatten(0)\n",
    "        ws += [w]\n",
    "        wsa += [w]\n",
    "    ws = torch.stack(ws)\n",
    "\n",
    "    within_mean = torch.mean(ws, dim=0)\n",
    "    within_variation = torch.mean((ws - within_mean) ** 2)\n",
    "    # pprint(within_variation)\n",
    "\n",
    "    within_means += [within_mean]\n",
    "\n",
    "overall_mean = torch.mean(torch.stack(wsa), dim=0)\n",
    "within_means = torch.stack(within_means)\n",
    "\n",
    "between_variation = torch.mean((within_means - overall_mean) ** 2)\n",
    "\n",
    "pprint((between_variation, overall_mean.shape, within_means.shape))\n",
    "    \n",
    "\n"
   ]
  },
  {
   "cell_type": "code",
   "execution_count": 113,
   "metadata": {},
   "outputs": [
    {
     "data": {
      "text/plain": [
       "tensor([0.3936, 0.3936, 0.3936, 0.3936, 0.3936, 0.3936, 0.3936, 0.3936, 0.3936,\n",
       "        0.3936, 0.3936, 0.3936, 0.3936, 0.3936, 0.3936, 0.3936, 0.3936, 0.3936])"
      ]
     },
     "execution_count": 113,
     "metadata": {},
     "output_type": "execute_result"
    }
   ],
   "source": [
    "mean_std_18.std(1)"
   ]
  },
  {
   "cell_type": "code",
   "execution_count": 87,
   "metadata": {},
   "outputs": [
    {
     "data": {
      "text/plain": [
       "tensor([1.3037, 1.3037, 1.3037, 1.3037, 1.3037, 1.3037, 1.3037, 1.3037, 1.3037,\n",
       "        1.3037, 1.3037, 1.3037, 1.3037, 1.3037, 1.3037, 1.3037, 1.3037, 1.3037])"
      ]
     },
     "execution_count": 87,
     "metadata": {},
     "output_type": "execute_result"
    }
   ],
   "source": [
    "torch.mean(mean_std_18, dim=0)"
   ]
  }
 ],
 "metadata": {
  "kernelspec": {
   "display_name": "Python 3.6.13 ('diploma')",
   "language": "python",
   "name": "python3"
  },
  "language_info": {
   "codemirror_mode": {
    "name": "ipython",
    "version": 3
   },
   "file_extension": ".py",
   "mimetype": "text/x-python",
   "name": "python",
   "nbconvert_exporter": "python",
   "pygments_lexer": "ipython3",
   "version": "3.6.13"
  },
  "metadata": {
   "interpreter": {
    "hash": "2ca3a44b8209f7ad007e433b11a4146eceddfdad5cdb64f89eb05e06944554d2"
   }
  },
  "orig_nbformat": 2,
  "vscode": {
   "interpreter": {
    "hash": "ae246c5463462a0474ed8a836a17015b6c9240506da8af1bdb9caeb091f1fd1c"
   }
  }
 },
 "nbformat": 4,
 "nbformat_minor": 2
}
